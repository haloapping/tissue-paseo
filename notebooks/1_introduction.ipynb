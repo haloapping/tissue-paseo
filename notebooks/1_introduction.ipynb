{
 "cells": [
  {
   "cell_type": "markdown",
   "id": "e63893c1",
   "metadata": {
    "slideshow": {
     "slide_type": "slide"
    }
   },
   "source": [
    "# Kenapa??\n",
    "\n",
    "Perkembangan teknologi terutama pada Internet menyebabkan jumlah data yang dihasilkan dan dipertukarkan menjadi sangat banyak. Muncul beberapa istilah seperti *Data Warehouse*, *Data Mining*, *Big Data Analytics*, *Machine Learning*, *Data Science*, dan lain-lain yang dimana istilah-istilah tersebut berhubungan dengan pengolahan data dengan jumlah yang relatif banyak.\n",
    "\n",
    "Untuk dapat mengolah data-data tersebut sehingga menjadi sebuah informasi yang berguna diperlukan beberapa tools. Salah satu tools tersebut adalah Statistika."
   ]
  },
  {
   "cell_type": "markdown",
   "id": "14661785",
   "metadata": {
    "slideshow": {
     "slide_type": "slide"
    }
   },
   "source": [
    "# Definisi\n",
    "\n",
    "1. Statistika merupakan bidang keilmuan yang mencakup pengumpulan (*collecting*), pengelolaan (*organising*), analisis (*analysing*), dan interpretasi (*interpreting*) data untuk mengambil keputusan.\n",
    "\n",
    "\n",
    "2. Data merupakan kumpulan informasi yang diperoleh melalui pengamatan (*observations*), penghitungan (*counts*), pengukuran (*measurements*), dan responsi (*responses*)."
   ]
  },
  {
   "cell_type": "markdown",
   "id": "d731e90e",
   "metadata": {
    "slideshow": {
     "slide_type": "slide"
    }
   },
   "source": [
    "# Populasi dan Sampel\n",
    "\n",
    "## Definisi\n",
    "\n",
    "1. Populasi (*Populations*) adalah kumpulan dari keseluruhan pengamatan, penghitungan, pengukuran, atau responsi terhadap topik yang ingin dikaji.\n",
    "\n",
    "\n",
    "2. Sampel (*Samples*) adalah bagian dari populasi. Sampel yang baik adalah yang representatif terhadap populasi. Harus dikumpulkan dengan menggunakan metode yang tepat.\n",
    "\n",
    "<img src=\"../images/population-vs-sample-jomblo.png\" width=300 />\n",
    "\n",
    "<center>image ref: https://www.scribbr.com/methodology/population-vs-sample/</center>"
   ]
  },
  {
   "cell_type": "markdown",
   "id": "662061a3",
   "metadata": {
    "slideshow": {
     "slide_type": "subslide"
    }
   },
   "source": [
    "## Contoh\n",
    "\n",
    "1. Populasi<br />\n",
    "Jurusan Informatika kampus BHTI yang terdiri dari 40 mahasiswa sedang melakukan survey berapa banyak mahasiswa-mahasiswi yang berstatus jomblo dan tidak jomblo. Dari 40 mahasiswa, didapati ada 35 mahasiswa-mahasiswi  yang berstatus jomblo dan sisanya tidak jomblo.\n",
    "\n",
    "\n",
    "2. Sampel<br />\n",
    "Dilakukan sebuah survey terhadap 20 perguruan tinggi di Indonesia untuk menanyakan apakah seorang mahasiswa atau mahasiswi statusnya jomblo atau tidak. Dari hasil survey didapatkan 1500 dari total 2500 mahasiswi dan mahasiswi berstatus jomblo."
   ]
  },
  {
   "cell_type": "markdown",
   "id": "66b3b46b",
   "metadata": {
    "slideshow": {
     "slide_type": "slide"
    }
   },
   "source": [
    "# Parameter dan Statistik\n",
    "\n",
    "## Definisi\n",
    "1. Parameter adalah deskripsi numerik dari karakteristik suatu populasi (*population*). Hanya terdapat satu parameter untuk satu populasi.\n",
    "\n",
    "\n",
    "2. Statistik (*Statistic*) adalah deskripsi numerik dari karakteristik suatu sampel (*sample*). Dimungkinkan untuk mendapati sejumlah statistik dengan nilai yang beragam untuk satu populasi yang sama."
   ]
  },
  {
   "cell_type": "markdown",
   "id": "31bfc885",
   "metadata": {
    "slideshow": {
     "slide_type": "subslide"
    }
   },
   "source": [
    "## Contoh\n",
    "\n",
    "1. Paramater<br>\n",
    "Berdasarkan hasil survey yang dilakukan oleh lembaga X terhadap perguruan tinggi Y, didapati 70% mahasiswa-mahasiswi dari total mahasiswa-mahasiswi 4500, tidak ingin pacaran. Hal ini, karena mereka lebih mementingkan perkuliahan daripada pacaran.\n",
    "\n",
    "\n",
    "2. Statistik<br>\n",
    "Dari hasil bertanya secara acak terhadap orang-orang yang lewat dipersimpangan jalan Sekeloa, didapati 70% orang-orang tersebut suka makan martabak manis."
   ]
  },
  {
   "cell_type": "markdown",
   "id": "72cbe8ef",
   "metadata": {
    "slideshow": {
     "slide_type": "slide"
    }
   },
   "source": [
    "# Cabang Ilmu Statistika\n",
    "\n",
    "## Definisi\n",
    "\n",
    "1. Statistika Deskriptif (*Descriptive Statistics*) berfokus pada pengelolaan data (*organization*), peringkasan data (*summarization*), dan visualisasi data (*display/visualization*).\n",
    "\n",
    "\n",
    "2. Statistika Inferensi (*Inferential  Statistics*) berfokus pada pemanfaatan __sampel__ untuk menarik kesimpulan terhadap __populasi__."
   ]
  },
  {
   "cell_type": "markdown",
   "id": "5434930e",
   "metadata": {
    "slideshow": {
     "slide_type": "subslide"
    }
   },
   "source": [
    "## Contoh\n",
    "\n",
    "1. Statistika Deskriptif<br>\n",
    "Berdasarkan sampel data 40 orang yang diperoleh dari lembaga Jomblo, didapati rentang waktu wanita menjomblo 3 kali lebih lama dibandingkan pria.\n",
    "\n",
    "\n",
    "2. Statistika Inferensi<br>\n",
    "Sejumlah pria dilibatkan dalam penelitian untuk melihat seberapa kesepian mereka saat diberlakukan *physical distancing*. Hasilnya 60% pria mengalami tingkat kesepian yang tinggi, karena belum dipeluk sama ayank :)"
   ]
  }
 ],
 "metadata": {
  "celltoolbar": "Slideshow",
  "kernelspec": {
   "display_name": "Python 3 (ipykernel)",
   "language": "python",
   "name": "python3"
  },
  "language_info": {
   "codemirror_mode": {
    "name": "ipython",
    "version": 3
   },
   "file_extension": ".py",
   "mimetype": "text/x-python",
   "name": "python",
   "nbconvert_exporter": "python",
   "pygments_lexer": "ipython3",
   "version": "3.8.12"
  },
  "nbTranslate": {
   "displayLangs": [
    "*"
   ],
   "hotkey": "alt-t",
   "langInMainMenu": true,
   "sourceLang": "en",
   "targetLang": "fr",
   "useGoogleTranslate": true
  },
  "toc": {
   "base_numbering": 1,
   "nav_menu": {},
   "number_sections": true,
   "sideBar": true,
   "skip_h1_title": false,
   "title_cell": "Table of Contents",
   "title_sidebar": "Contents",
   "toc_cell": false,
   "toc_position": {},
   "toc_section_display": true,
   "toc_window_display": false
  }
 },
 "nbformat": 4,
 "nbformat_minor": 5
}
