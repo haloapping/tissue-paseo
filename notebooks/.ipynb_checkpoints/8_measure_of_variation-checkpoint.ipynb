{
 "cells": [
  {
   "cell_type": "markdown",
   "id": "de4d3423",
   "metadata": {
    "slideshow": {
     "slide_type": "slide"
    }
   },
   "source": [
    "# Measure of Variation??\n",
    "\n",
    "- Suatu pengukuran nilai yang dapat digunakan untuk merepresentasikan keberagaman atau sebaran data.\n",
    "- Pengukuran yang dapat digunakan, antara lain range, variance, standard deviation."
   ]
  },
  {
   "cell_type": "markdown",
   "id": "015fd263",
   "metadata": {
    "slideshow": {
     "slide_type": "slide"
    }
   },
   "source": [
    "# Range (Jangkauan)\n",
    "\n",
    "- Hasil perhitungan selisih antara nilai tertinggi dengan nilai terendah pada dataset tersebut.\n",
    "- Memiliki kelemahan di mana hanya menggunakan dua nilai, yaitu nilai terbesar dan terkecil saja untuk menghitung keberagaman atau sebaran data.\n",
    "- $range\\ =\\ max\\text{_}value\\ -\\ min\\text{_}value$\n",
    "- Contoh:"
   ]
  },
  {
   "cell_type": "code",
   "execution_count": 1,
   "id": "83ee79d5",
   "metadata": {
    "ExecuteTime": {
     "end_time": "2022-02-26T06:10:03.168485Z",
     "start_time": "2022-02-26T06:10:03.096432Z"
    },
    "hide_input": true
   },
   "outputs": [
    {
     "name": "stdout",
     "output_type": "stream",
     "text": [
      "Salary 1 : [41, 38, 39, 45, 47, 41, 44, 41, 37, 42]\n",
      "Mean     : 41.5\n",
      "Median   : 41.0\n",
      "Range    : 10\n",
      "\n",
      "Salary 2 : [40, 23, 41, 50, 49, 32, 41, 29, 52, 58]\n",
      "Mean     : 41.5\n",
      "Median   : 41.0\n",
      "Range    : 35\n"
     ]
    }
   ],
   "source": [
    "import statistics\n",
    "\n",
    "salary_1 = [41, 38, 39, 45, 47, 41, 44, 41, 37, 42]\n",
    "salary_2 = [40, 23, 41, 50, 49, 32, 41, 29, 52, 58]\n",
    "\n",
    "print(f\"Salary 1 : {salary_1}\")\n",
    "print(f\"Mean     : {statistics.mean(salary_1)}\")\n",
    "print(f\"Median   : {statistics.median(salary_1)}\")\n",
    "print(f\"Range    : {max(salary_1) - min(salary_1)}\\n\")\n",
    "\n",
    "print(f\"Salary 2 : {salary_2}\")\n",
    "print(f\"Mean     : {statistics.mean(salary_2)}\")\n",
    "print(f\"Median   : {statistics.median(salary_2)}\")\n",
    "print(f\"Range    : {max(salary_2) - min(salary_2)}\")"
   ]
  },
  {
   "cell_type": "markdown",
   "id": "c6ea5a74",
   "metadata": {
    "slideshow": {
     "slide_type": "slide"
    }
   },
   "source": [
    "# Variance\n",
    "\n",
    "- Hasil perhitungan rerata simpangan tiap entri data pada dataset terhadap nilai mean dari dataset.\n",
    "- Population Variance: $\\sigma\\ =\\ \\frac{\\sum (x\\ -\\ \\mu)^2}{N}$\n",
    "- Sample Variance: $s^2\\ =\\ \\frac{\\sigma (x\\ -\\ \\bar{x})^2}{n\\ -\\ 1} $"
   ]
  },
  {
   "cell_type": "code",
   "execution_count": 2,
   "id": "0caa2e82",
   "metadata": {
    "ExecuteTime": {
     "end_time": "2022-02-26T06:10:03.220217Z",
     "start_time": "2022-02-26T06:10:03.177663Z"
    },
    "hide_input": true,
    "slideshow": {
     "slide_type": "-"
    }
   },
   "outputs": [
    {
     "name": "stdout",
     "output_type": "stream",
     "text": [
      "data         : [41, 38, 39, 45, 47, 41, 44, 41, 37, 42]\n",
      "mean         : 41.5\n",
      "x - mean     : [-0.5, -3.5, -2.5, 3.5, 5.5, -0.5, 2.5, -0.5, -4.5, 0.5]\n",
      "(x - mean)^2 : [0.25, 12.25, 6.25, 12.25, 30.25, 0.25, 6.25, 0.25, 20.25, 0.25]\n",
      "variance     : 8.85\n"
     ]
    }
   ],
   "source": [
    "data = [41, 38, 39, 45, 47, 41, 44, 41, 37, 42]\n",
    "mean = statistics.mean(data)\n",
    "\n",
    "print(f\"data         : {data}\")\n",
    "print(f\"mean         : {statistics.mean(data)}\")\n",
    "print(f\"x - mean     : {[x - mean for x in data]}\")\n",
    "print(f\"(x - mean)^2 : {[(x - mean)**2 for x in data]}\")\n",
    "print(f\"variance     : {sum([(x - mean)**2 for x in data]) / len(data)}\")"
   ]
  },
  {
   "cell_type": "markdown",
   "id": "4e053105",
   "metadata": {
    "slideshow": {
     "slide_type": "slide"
    }
   },
   "source": [
    "# Standard Deviation (Simpangan Baku)\n",
    "\n",
    "- Hasil perhitungan menggunakan variance menyebabkan perubahan satuan, sehingga tidak sama lagi dengan satuan data awal.\n",
    "- Standard Deviation mengatasi kekurangan dari variance dengan cara mengakarkan nilai dari variance.\n",
    "- Population Standard Deviation: $\\sigma\\ =\\ \\sqrt{\\sigma^2}\\ =\\ \\sqrt{\\frac{\\sum(x\\ -\\ \\mu)^2}{N}}$\n",
    "- Sample Standard Deviation: $s\\ =\\ \\sqrt{s^2}\\ =\\ \\sqrt{\\frac{\\sum(x\\ -\\ \\bar{x})^2}{n\\ -\\ 1}}$"
   ]
  },
  {
   "cell_type": "code",
   "execution_count": 3,
   "id": "0b0bd47f",
   "metadata": {
    "ExecuteTime": {
     "end_time": "2022-02-26T06:10:03.317364Z",
     "start_time": "2022-02-26T06:10:03.265560Z"
    },
    "hide_input": true
   },
   "outputs": [
    {
     "name": "stdout",
     "output_type": "stream",
     "text": [
      "data         : [41, 38, 39, 45, 47, 41, 44, 41, 37, 42]\n",
      "mean         : 41.5\n",
      "x - mean     : [-0.5, -3.5, -2.5, 3.5, 5.5, -0.5, 2.5, -0.5, -4.5, 0.5]\n",
      "(x - mean)^2 : [0.25, 12.25, 6.25, 12.25, 30.25, 0.25, 6.25, 0.25, 20.25, 0.25]\n",
      "variance     : 8.85\n",
      "standard dev : 2.9748949561287032\n"
     ]
    }
   ],
   "source": [
    "data = [41, 38, 39, 45, 47, 41, 44, 41, 37, 42]\n",
    "mean = statistics.mean(data)\n",
    "\n",
    "print(f\"data         : {data}\")\n",
    "print(f\"mean         : {statistics.mean(data)}\")\n",
    "print(f\"x - mean     : {[x - mean for x in data]}\")\n",
    "print(f\"(x - mean)^2 : {[(x - mean)**2 for x in data]}\")\n",
    "print(f\"variance     : {sum([(x - mean)**2 for x in data]) / len(data)}\")\n",
    "print(f\"standard dev : {(sum([(x - mean)**2 for x in data]) / len(data))**0.5}\")"
   ]
  },
  {
   "cell_type": "markdown",
   "id": "ffa30cf0",
   "metadata": {
    "slideshow": {
     "slide_type": "slide"
    }
   },
   "source": [
    "# Notasi\n",
    "\n",
    "<img src=\"../images/notation.png\" width=\"500\">"
   ]
  },
  {
   "cell_type": "markdown",
   "id": "a84b3786",
   "metadata": {
    "slideshow": {
     "slide_type": "slide"
    }
   },
   "source": [
    "# Distribution Shape"
   ]
  },
  {
   "cell_type": "code",
   "execution_count": 4,
   "id": "eafe04e4",
   "metadata": {
    "ExecuteTime": {
     "end_time": "2022-02-26T06:10:05.178931Z",
     "start_time": "2022-02-26T06:10:03.379893Z"
    },
    "hide_input": true
   },
   "outputs": [],
   "source": [
    "import pandas as pd\n",
    "import numpy as np\n",
    "\n",
    "n = 100\n",
    "mean = 5\n",
    "\n",
    "sigma_1 = 0\n",
    "data_1 = np.random.normal(mean, sigma_1, n)\n",
    "data_1_df = pd.DataFrame({\"x\": data_1})\n",
    "\n",
    "sigma_2 = 1.2\n",
    "data_2 = np.random.normal(mean, sigma_2, n)\n",
    "data_2_df = pd.DataFrame({\"x\": data_2})\n",
    "\n",
    "sigma_3 = 3.0\n",
    "data_3 = np.random.normal(mean, sigma_3, n)\n",
    "data_3_df = pd.DataFrame({\"x\": data_3})"
   ]
  },
  {
   "cell_type": "code",
   "execution_count": 5,
   "id": "e8efb469",
   "metadata": {
    "ExecuteTime": {
     "end_time": "2022-02-26T06:10:07.897605Z",
     "start_time": "2022-02-26T06:10:05.185634Z"
    },
    "hide_input": true
   },
   "outputs": [
    {
     "data": {
      "image/png": "[encoded data removed]",
      "text/plain": [
       "<Figure size 432x288 with 1 Axes>"
      ]
     },
     "metadata": {
      "needs_background": "light"
     },
     "output_type": "display_data"
    }
   ],
   "source": [
    "data_1_df.plot(\n",
    "    kind=\"hist\",\n",
    "    title=\"mean=5 and std=0\",\n",
    "    legend=False\n",
    ");"
   ]
  },
  {
   "cell_type": "code",
   "execution_count": 6,
   "id": "fdd50493",
   "metadata": {
    "ExecuteTime": {
     "end_time": "2022-02-26T06:10:08.442987Z",
     "start_time": "2022-02-26T06:10:07.906199Z"
    },
    "hide_input": true,
    "slideshow": {
     "slide_type": "subslide"
    }
   },
   "outputs": [
    {
     "data": {
      "image/png": "[encoded data removed]",
      "text/plain": [
       "<Figure size 432x288 with 1 Axes>"
      ]
     },
     "metadata": {
      "needs_background": "light"
     },
     "output_type": "display_data"
    }
   ],
   "source": [
    "data_2_df.plot(\n",
    "    kind=\"hist\",\n",
    "    title=\"mean=5 and std=1.2\",\n",
    "    legend=False\n",
    ");"
   ]
  },
  {
   "cell_type": "code",
   "execution_count": 7,
   "id": "e4ce2e0c",
   "metadata": {
    "ExecuteTime": {
     "end_time": "2022-02-26T06:10:08.798794Z",
     "start_time": "2022-02-26T06:10:08.451171Z"
    },
    "hide_input": true,
    "slideshow": {
     "slide_type": "subslide"
    }
   },
   "outputs": [
    {
     "data": {
      "image/png": "[encoded data removed]",
      "text/plain": [
       "<Figure size 432x288 with 1 Axes>"
      ]
     },
     "metadata": {
      "needs_background": "light"
     },
     "output_type": "display_data"
    }
   ],
   "source": [
    "data_3_df.plot(\n",
    "    kind=\"hist\",\n",
    "    title=\"mean=5 and std=3.0\",\n",
    "    legend=False\n",
    ");"
   ]
  },
  {
   "cell_type": "markdown",
   "id": "4d57a455",
   "metadata": {
    "slideshow": {
     "slide_type": "slide"
    }
   },
   "source": [
    "# Empirical Rule\n",
    "\n",
    "<img src=\"../images/empirical-rule.png\" width=\"1000\">\n",
    "\n",
    "- Biasanya distribusi suatu data mendekati distribusi simetris (*bell shaped*).\n",
    "- *Empirical Rule* dapat diterapkan pada bentuk distribusi simetris.\n",
    "- Dapat digunakan untuk mendeteksi outlier.\n",
    "- Rentang nilai:\n",
    "    - Rentang $\\underline{+}1\\sigma$ dibentuk oleh 68% data.\n",
    "    - Rentang $\\underline{+}2\\sigma$ dibentuk oleh 27% data.\n",
    "    - Rentang $\\underline{+}3\\sigma$ dibentuk oleh 4.7% data.\n",
    "    - Rentang $\\underline{+}4\\sigma$ dapat dikategorikan outlier."
   ]
  },
  {
   "cell_type": "markdown",
   "id": "29beff1c",
   "metadata": {
    "slideshow": {
     "slide_type": "subslide"
    }
   },
   "source": [
    "- Contoh:<img src=\"../images/empirical-rule-case.png\" width=\"500\">\n",
    "\n",
    "Qeustion:<br>\n",
    "Diberikan sebaran distribusi tinggi badan wanita di Amerika Serikat berumur 20-29 tahun dengan mean = 64.5 dan standard Deviation = 2.9. Hitung estimasi persentase wanita Amerika Serikat dengan tinggi badan antara 58.4-64.2 inch?\n",
    "\n",
    "Answer:<br>\n",
    "$13.5\\% + 34\\% = 47.5\\%$"
   ]
  },
  {
   "cell_type": "markdown",
   "id": "0e7e7ccd",
   "metadata": {
    "slideshow": {
     "slide_type": "slide"
    }
   },
   "source": [
    "# Chebychev's Theorem\n",
    "\n",
    "- Terdapat kekurangan menggunakan Empirical Rule. Empirical Rule hanya bisa digunakan pada data yang sebaran frekuensinya membentuk *symmetric distribution*.\n",
    "- Untuk mengatasi kekurangan tersebut digunakan Chebychev's Theorem.\n",
    "- Chebychev's Theorem melakukan estimasi proporsi minimum dari dataset yang berada pada K standard deviation.\n",
    "- $chebychev = 1 - \\frac{1}{k^2}$\n",
    "    - $k = 2, chebychev = 1 - \\frac{1}{2^2}\\ =\\ \\frac{3}{4} =\\ 75\\%$\n",
    "    - $k = 3, chebychev = 1 - \\frac{1}{3^2}\\ =\\ \\frac{8}{9} =\\ 88.9\\%$\n",
    "- Estimasi yang dilakukan merupakan nilai minimal."
   ]
  },
  {
   "cell_type": "markdown",
   "id": "ec47cae6",
   "metadata": {
    "slideshow": {
     "slide_type": "subslide"
    }
   },
   "source": [
    "- Contoh:<img src=\"../images/chebychev-theorem-case.png\" width=\"500\">\n",
    "\n",
    "Question:\n",
    "\n",
    "Berapakah proporsi data yang berada dalam rentang dua standard deviation dari mean? Sertakan interpretasi!\n",
    "\n",
    "Answer:\n",
    "- Kalkulasi:<br>\n",
    "    - $38.8 - 2(22.5) = -6.2$\n",
    "    - $38.8 + 2(22.5) = 83.8$\n",
    "- Interpretasi:<br>\n",
    "Setidaknya 75% dari populasi penduduk di New York berusia antara 0 sampai 83.8 tahun."
   ]
  },
  {
   "cell_type": "markdown",
   "id": "3f76ee9b",
   "metadata": {
    "slideshow": {
     "slide_type": "slide"
    }
   },
   "source": [
    "# Standard Deviation for Grouped Data (Frequency Distribution)\n",
    "\n",
    "- $s\\ =\\ \\sqrt{\\frac{\\sum(x\\ -\\ \\bar{x})^2f}{n\\ -\\ 1}},\\ n\\ =\\ \\sum f$\n",
    "- Contoh:"
   ]
  },
  {
   "cell_type": "code",
   "execution_count": 8,
   "id": "f61259d5",
   "metadata": {
    "ExecuteTime": {
     "end_time": "2022-02-26T06:10:08.883997Z",
     "start_time": "2022-02-26T06:10:08.803472Z"
    },
    "hide_input": true,
    "scrolled": true
   },
   "outputs": [
    {
     "data": {
      "text/html": [
       "<div>\n",
       "<style scoped>\n",
       "    .dataframe tbody tr th:only-of-type {\n",
       "        vertical-align: middle;\n",
       "    }\n",
       "\n",
       "    .dataframe tbody tr th {\n",
       "        vertical-align: top;\n",
       "    }\n",
       "\n",
       "    .dataframe thead th {\n",
       "        text-align: right;\n",
       "    }\n",
       "</style>\n",
       "<table border=\"1\" class=\"dataframe\">\n",
       "  <thead>\n",
       "    <tr style=\"text-align: right;\">\n",
       "      <th></th>\n",
       "      <th>x</th>\n",
       "      <th>f</th>\n",
       "      <th>x.f</th>\n",
       "      <th>x - mean</th>\n",
       "      <th>(x - mean)^2</th>\n",
       "      <th>(x - mean)^2.f</th>\n",
       "    </tr>\n",
       "  </thead>\n",
       "  <tbody>\n",
       "    <tr>\n",
       "      <th>0</th>\n",
       "      <td>0</td>\n",
       "      <td>10</td>\n",
       "      <td>0</td>\n",
       "      <td>-1.82</td>\n",
       "      <td>3.3124</td>\n",
       "      <td>33.1240</td>\n",
       "    </tr>\n",
       "    <tr>\n",
       "      <th>1</th>\n",
       "      <td>1</td>\n",
       "      <td>19</td>\n",
       "      <td>19</td>\n",
       "      <td>-0.82</td>\n",
       "      <td>0.6724</td>\n",
       "      <td>12.7756</td>\n",
       "    </tr>\n",
       "    <tr>\n",
       "      <th>2</th>\n",
       "      <td>2</td>\n",
       "      <td>7</td>\n",
       "      <td>14</td>\n",
       "      <td>0.18</td>\n",
       "      <td>0.0324</td>\n",
       "      <td>0.2268</td>\n",
       "    </tr>\n",
       "    <tr>\n",
       "      <th>3</th>\n",
       "      <td>3</td>\n",
       "      <td>7</td>\n",
       "      <td>21</td>\n",
       "      <td>1.18</td>\n",
       "      <td>1.3924</td>\n",
       "      <td>9.7468</td>\n",
       "    </tr>\n",
       "    <tr>\n",
       "      <th>4</th>\n",
       "      <td>4</td>\n",
       "      <td>2</td>\n",
       "      <td>8</td>\n",
       "      <td>2.18</td>\n",
       "      <td>4.7524</td>\n",
       "      <td>9.5048</td>\n",
       "    </tr>\n",
       "    <tr>\n",
       "      <th>5</th>\n",
       "      <td>5</td>\n",
       "      <td>1</td>\n",
       "      <td>5</td>\n",
       "      <td>3.18</td>\n",
       "      <td>10.1124</td>\n",
       "      <td>10.1124</td>\n",
       "    </tr>\n",
       "    <tr>\n",
       "      <th>6</th>\n",
       "      <td>6</td>\n",
       "      <td>4</td>\n",
       "      <td>24</td>\n",
       "      <td>4.18</td>\n",
       "      <td>17.4724</td>\n",
       "      <td>69.8896</td>\n",
       "    </tr>\n",
       "  </tbody>\n",
       "</table>\n",
       "</div>"
      ],
      "text/plain": [
       "   x   f  x.f  x - mean  (x - mean)^2  (x - mean)^2.f\n",
       "0  0  10    0     -1.82        3.3124         33.1240\n",
       "1  1  19   19     -0.82        0.6724         12.7756\n",
       "2  2   7   14      0.18        0.0324          0.2268\n",
       "3  3   7   21      1.18        1.3924          9.7468\n",
       "4  4   2    8      2.18        4.7524          9.5048\n",
       "5  5   1    5      3.18       10.1124         10.1124\n",
       "6  6   4   24      4.18       17.4724         69.8896"
      ]
     },
     "execution_count": 8,
     "metadata": {},
     "output_type": "execute_result"
    }
   ],
   "source": [
    "from collections import Counter\n",
    "\n",
    "n_children_in_50_households = [1, 3, 1, 1, 1,\n",
    "                               1, 2, 2, 1, 0,\n",
    "                               1, 1, 0, 0, 0,\n",
    "                               1, 5, 0, 3, 6,\n",
    "                               3, 0, 3, 1, 1,\n",
    "                               1, 1, 6, 0, 1,\n",
    "                               3, 6, 6, 1, 2,\n",
    "                               2, 3, 0, 1, 1,\n",
    "                               4, 1, 1, 2, 2,\n",
    "                               0, 3, 0, 2, 4]\n",
    "\n",
    "count = dict(Counter(n_children_in_50_households))\n",
    "sorted_count = dict(sorted(count.items(), key=lambda item: item[0]))\n",
    "x = sorted_count.keys()\n",
    "f = sorted_count.values()\n",
    "\n",
    "n_children_in_50_households_df = pd.DataFrame(\n",
    "    data={\n",
    "        \"x\": x,\n",
    "        \"f\": f\n",
    "    }\n",
    ")\n",
    "\n",
    "n_children_in_50_households_df[\"x.f\"] = n_children_in_50_households_df[\"x\"] * n_children_in_50_households_df[\"f\"]\n",
    "total_f = n_children_in_50_households_df[\"f\"].sum()\n",
    "total_xf =  n_children_in_50_households_df[\"x.f\"].sum()\n",
    "mean = total_xf / total_f\n",
    "n_children_in_50_households_df[\"x - mean\"] = n_children_in_50_households_df[\"x\"] - mean\n",
    "n_children_in_50_households_df[\"(x - mean)^2\"] = (n_children_in_50_households_df[\"x\"] - mean)**2\n",
    "n_children_in_50_households_df[\"(x - mean)^2.f\"] = (n_children_in_50_households_df[\"x\"] - mean)**2 * n_children_in_50_households_df[\"f\"]\n",
    "n_children_in_50_households_df"
   ]
  },
  {
   "cell_type": "code",
   "execution_count": 9,
   "id": "5d134308",
   "metadata": {
    "ExecuteTime": {
     "end_time": "2022-02-26T06:10:08.915134Z",
     "start_time": "2022-02-26T06:10:08.884996Z"
    },
    "hide_input": true,
    "scrolled": true
   },
   "outputs": [
    {
     "name": "stdout",
     "output_type": "stream",
     "text": [
      "Total of f              : 50\n",
      "Total of x.f            : 91\n",
      "Total of (x - mean)^2.f : 145.38\n",
      "Mean                    : 1.82\n",
      "Standard Deviation      : 1.7224804136797038\n"
     ]
    }
   ],
   "source": [
    "std = (n_children_in_50_households_df[\"(x - mean)^2.f\"].sum() / (total_f - 1))**0.5\n",
    "\n",
    "print(f\"Total of f              : {total_f}\")\n",
    "print(f\"Total of x.f            : {total_xf}\")\n",
    "print(f\"Total of (x - mean)^2.f : {((n_children_in_50_households_df['x'] - mean)**2 * n_children_in_50_households_df['f']).sum()}\")\n",
    "print(f\"Mean                    : {mean}\")\n",
    "print(f\"Standard Deviation      : {std}\")"
   ]
  },
  {
   "cell_type": "markdown",
   "id": "466557f6",
   "metadata": {
    "slideshow": {
     "slide_type": "slide"
    }
   },
   "source": [
    "# Coefficient of Variation\n",
    "\n",
    "- Standard Deviation dapat digunakan untuk membandingkan  keberagaman atau sebaran data antar dataset yang memiliki satuan pengukuran yang sama dengan nilai mean yang mirip.\n",
    "- Sedangkan dataset yang memiliki satuan pengukuran berbeda atau nilai mean yang jauh berbeda, maka mesti menggunakan *Coefficient of Variation*.\n",
    "- Population CV: $CV\\ =\\ \\frac{\\sigma}{\\mu}\\ .\\ 100\\%$\n",
    "- Sample CV: CV = $\\frac{s}{\\bar{x}}\\ .\\ 100\\%$"
   ]
  },
  {
   "cell_type": "markdown",
   "id": "226bfcc0",
   "metadata": {
    "slideshow": {
     "slide_type": "subslide"
    }
   },
   "source": [
    "- Contoh:"
   ]
  },
  {
   "cell_type": "code",
   "execution_count": 10,
   "id": "e44ebe39",
   "metadata": {
    "ExecuteTime": {
     "end_time": "2022-02-26T06:10:08.955834Z",
     "start_time": "2022-02-26T06:10:08.919196Z"
    },
    "hide_input": true,
    "slideshow": {
     "slide_type": "-"
    }
   },
   "outputs": [
    {
     "data": {
      "text/html": [
       "<div>\n",
       "<style scoped>\n",
       "    .dataframe tbody tr th:only-of-type {\n",
       "        vertical-align: middle;\n",
       "    }\n",
       "\n",
       "    .dataframe tbody tr th {\n",
       "        vertical-align: top;\n",
       "    }\n",
       "\n",
       "    .dataframe thead th {\n",
       "        text-align: right;\n",
       "    }\n",
       "</style>\n",
       "<table border=\"1\" class=\"dataframe\">\n",
       "  <thead>\n",
       "    <tr style=\"text-align: right;\">\n",
       "      <th></th>\n",
       "      <th>heights (inches)</th>\n",
       "      <th>weights (pounds)</th>\n",
       "    </tr>\n",
       "  </thead>\n",
       "  <tbody>\n",
       "    <tr>\n",
       "      <th>0</th>\n",
       "      <td>72</td>\n",
       "      <td>180</td>\n",
       "    </tr>\n",
       "    <tr>\n",
       "      <th>1</th>\n",
       "      <td>74</td>\n",
       "      <td>168</td>\n",
       "    </tr>\n",
       "    <tr>\n",
       "      <th>2</th>\n",
       "      <td>68</td>\n",
       "      <td>225</td>\n",
       "    </tr>\n",
       "    <tr>\n",
       "      <th>3</th>\n",
       "      <td>76</td>\n",
       "      <td>201</td>\n",
       "    </tr>\n",
       "    <tr>\n",
       "      <th>4</th>\n",
       "      <td>74</td>\n",
       "      <td>189</td>\n",
       "    </tr>\n",
       "    <tr>\n",
       "      <th>5</th>\n",
       "      <td>69</td>\n",
       "      <td>192</td>\n",
       "    </tr>\n",
       "    <tr>\n",
       "      <th>6</th>\n",
       "      <td>72</td>\n",
       "      <td>197</td>\n",
       "    </tr>\n",
       "    <tr>\n",
       "      <th>7</th>\n",
       "      <td>79</td>\n",
       "      <td>162</td>\n",
       "    </tr>\n",
       "    <tr>\n",
       "      <th>8</th>\n",
       "      <td>70</td>\n",
       "      <td>174</td>\n",
       "    </tr>\n",
       "    <tr>\n",
       "      <th>9</th>\n",
       "      <td>69</td>\n",
       "      <td>171</td>\n",
       "    </tr>\n",
       "    <tr>\n",
       "      <th>10</th>\n",
       "      <td>77</td>\n",
       "      <td>185</td>\n",
       "    </tr>\n",
       "    <tr>\n",
       "      <th>11</th>\n",
       "      <td>73</td>\n",
       "      <td>210</td>\n",
       "    </tr>\n",
       "  </tbody>\n",
       "</table>\n",
       "</div>"
      ],
      "text/plain": [
       "    heights (inches)  weights (pounds)\n",
       "0                 72               180\n",
       "1                 74               168\n",
       "2                 68               225\n",
       "3                 76               201\n",
       "4                 74               189\n",
       "5                 69               192\n",
       "6                 72               197\n",
       "7                 79               162\n",
       "8                 70               174\n",
       "9                 69               171\n",
       "10                77               185\n",
       "11                73               210"
      ]
     },
     "execution_count": 10,
     "metadata": {},
     "output_type": "execute_result"
    }
   ],
   "source": [
    "height_and_weight_df = pd.DataFrame(\n",
    "    data={\n",
    "        \"heights (inches)\": [72, 74, 68, 76, 74, 69, 72, 79, 70, 69, 77, 73],\n",
    "        \"weights (pounds)\": [180, 168, 225, 201, 189, 192, 197, 162, 174, 171, 185, 210]\n",
    "    }\n",
    ")\n",
    "\n",
    "height_and_weight_df"
   ]
  },
  {
   "cell_type": "code",
   "execution_count": 11,
   "id": "7b6e74d4",
   "metadata": {
    "ExecuteTime": {
     "end_time": "2022-02-26T06:10:08.988821Z",
     "start_time": "2022-02-26T06:10:08.959921Z"
    },
    "hide_input": true
   },
   "outputs": [
    {
     "name": "stdout",
     "output_type": "stream",
     "text": [
      "Heights\n",
      "Mean : 72.75\n",
      "Std  : 3.4410622038709344\n",
      "CV   : 4.7299824108191535%\n",
      "\n",
      "Weights\n",
      "Mean : 187.83333333333334\n",
      "Std  : 18.472748150787535\n",
      "CV   : 9.834648527482273%\n"
     ]
    }
   ],
   "source": [
    "mean_height = height_and_weight_df[\"heights (inches)\"].mean()\n",
    "std_height = statistics.stdev(height_and_weight_df[\"heights (inches)\"])\n",
    "cv_height = std_height / mean_height * 100\n",
    "\n",
    "mean_weight = height_and_weight_df[\"weights (pounds)\"].mean()\n",
    "std_weight = statistics.stdev(height_and_weight_df[\"weights (pounds)\"])\n",
    "cv_weight = std_weight / mean_weight * 100\n",
    "\n",
    "print(\"Heights\")\n",
    "print(f\"Mean : {mean_height}\")\n",
    "print(f\"Std  : {std_height}\")\n",
    "print(f\"CV   : {cv_height}%\")\n",
    "\n",
    "print(\"\\nWeights\")\n",
    "print(f\"Mean : {mean_weight}\")\n",
    "print(f\"Std  : {std_weight}\")\n",
    "print(f\"CV   : {cv_weight}%\")"
   ]
  }
 ],
 "metadata": {
  "celltoolbar": "Slideshow",
  "kernelspec": {
   "display_name": "Python 3 (ipykernel)",
   "language": "python",
   "name": "python3"
  },
  "language_info": {
   "codemirror_mode": {
    "name": "ipython",
    "version": 3
   },
   "file_extension": ".py",
   "mimetype": "text/x-python",
   "name": "python",
   "nbconvert_exporter": "python",
   "pygments_lexer": "ipython3",
   "version": "3.8.12"
  },
  "nbTranslate": {
   "displayLangs": [
    "*"
   ],
   "hotkey": "alt-t",
   "langInMainMenu": true,
   "sourceLang": "en",
   "targetLang": "fr",
   "useGoogleTranslate": true
  },
  "toc": {
   "base_numbering": 1,
   "nav_menu": {},
   "number_sections": true,
   "sideBar": true,
   "skip_h1_title": false,
   "title_cell": "Table of Contents",
   "title_sidebar": "Contents",
   "toc_cell": false,
   "toc_position": {},
   "toc_section_display": true,
   "toc_window_display": false
  }
 },
 "nbformat": 4,
 "nbformat_minor": 5
}
