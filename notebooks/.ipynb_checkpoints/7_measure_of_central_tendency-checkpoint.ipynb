{
 "cells": [
  {
   "cell_type": "markdown",
   "id": "cd6c71c7",
   "metadata": {
    "slideshow": {
     "slide_type": "slide"
    }
   },
   "source": [
    "# Definisi\n",
    "\n",
    "- Suatu pengukuran nilai yang dapat digunakan untuk merepresentasikan nilai tipikal atau sentral dari suatu dataset.\n",
    "- Central Tendency yang umum digunakan, antara lain mean, median dan mode."
   ]
  },
  {
   "cell_type": "markdown",
   "id": "71f9c61d",
   "metadata": {
    "slideshow": {
     "slide_type": "slide"
    }
   },
   "source": [
    "# Mean\n",
    "\n",
    "- Penjumlahan dari keseluruhan entri pada dataset dibagi dengan banyaknya entri pada dataset disebut mean.\n",
    "- $population\\text{_}mean\\ =\\ \\frac{\\sum x}{N}$\n",
    "- $\\bar{x}\\ =\\ \\frac{\\sum x}{n}$"
   ]
  },
  {
   "cell_type": "markdown",
   "id": "93c3f40f",
   "metadata": {
    "slideshow": {
     "slide_type": "subslide"
    }
   },
   "source": [
    "## Contoh"
   ]
  },
  {
   "cell_type": "code",
   "execution_count": 1,
   "id": "59fcc86f",
   "metadata": {
    "ExecuteTime": {
     "end_time": "2022-02-25T23:43:04.957132Z",
     "start_time": "2022-02-25T23:43:04.925684Z"
    }
   },
   "outputs": [
    {
     "name": "stdout",
     "output_type": "stream",
     "text": [
      "x = [1, 3, 2, 1, 5, 4, 3, 6, 10, 7, 7]\n"
     ]
    }
   ],
   "source": [
    "x = [1, 3, 2, 1, 5, 4, 3, 6, 10, 7, 7]\n",
    "print(f\"x = {x}\")"
   ]
  },
  {
   "cell_type": "code",
   "execution_count": 2,
   "id": "933248c2",
   "metadata": {
    "ExecuteTime": {
     "end_time": "2022-02-25T23:43:04.996200Z",
     "start_time": "2022-02-25T23:43:04.971895Z"
    }
   },
   "outputs": [
    {
     "data": {
      "text/plain": [
       "4.454545454545454"
      ]
     },
     "execution_count": 2,
     "metadata": {},
     "output_type": "execute_result"
    }
   ],
   "source": [
    "mean = sum(x) / len(x)\n",
    "mean"
   ]
  },
  {
   "cell_type": "markdown",
   "id": "c99ac332",
   "metadata": {
    "slideshow": {
     "slide_type": "slide"
    }
   },
   "source": [
    "# Median\n",
    "\n",
    "- Nilai yang berada ditengah dari sekumpulan data, dimana kumpulan data telah terurut.\n",
    "- Untuk dataset dengan jumlah entri ganjil, nilai median diperoleh dari nilai yang tepat berada di tengah.\n",
    "- Untuk dataset dengan jumlah entri genap, nilai median diperoleh dari rerata dua nilai yang berada ditengah."
   ]
  },
  {
   "cell_type": "markdown",
   "id": "b62fa825",
   "metadata": {
    "slideshow": {
     "slide_type": "subslide"
    }
   },
   "source": [
    "## Contoh"
   ]
  },
  {
   "cell_type": "code",
   "execution_count": 3,
   "id": "90caba44",
   "metadata": {
    "ExecuteTime": {
     "end_time": "2022-02-25T23:43:05.065086Z",
     "start_time": "2022-02-25T23:43:05.051482Z"
    },
    "hide_input": true
   },
   "outputs": [],
   "source": [
    "def median(x):\n",
    "    import math\n",
    "    \n",
    "    x[:] = sorted(x)\n",
    "    idx_1 = math.floor(len(x) / 2)\n",
    "    \n",
    "    if len(x) % 2 == 0:\n",
    "        idx_2 = idx_1 + 1\n",
    "        return (x[idx_1] + x[idx_2]) / 2\n",
    "    \n",
    "    return x[idx_1]"
   ]
  },
  {
   "cell_type": "markdown",
   "id": "72f0d6ad",
   "metadata": {},
   "source": [
    "### Even"
   ]
  },
  {
   "cell_type": "code",
   "execution_count": 4,
   "id": "cc65a31a",
   "metadata": {
    "ExecuteTime": {
     "end_time": "2022-02-25T23:43:05.141323Z",
     "start_time": "2022-02-25T23:43:05.128468Z"
    }
   },
   "outputs": [
    {
     "name": "stdout",
     "output_type": "stream",
     "text": [
      "x_even : [1, 2, 3, 4, 5, 6, 7, 8, 9, 10]\n",
      "median : 6.5\n"
     ]
    }
   ],
   "source": [
    "x_even = [1, 2, 3, 4, 5, 6, 7, 8, 9, 10]\n",
    "print(f\"x_even : {x_even}\")\n",
    "print(f\"median : {median(x_even)}\")"
   ]
  },
  {
   "cell_type": "markdown",
   "id": "792d3ca3",
   "metadata": {
    "slideshow": {
     "slide_type": "subslide"
    }
   },
   "source": [
    "### Odd"
   ]
  },
  {
   "cell_type": "code",
   "execution_count": 5,
   "id": "f6d58e1c",
   "metadata": {
    "ExecuteTime": {
     "end_time": "2022-02-25T23:43:05.267440Z",
     "start_time": "2022-02-25T23:43:05.240724Z"
    }
   },
   "outputs": [
    {
     "name": "stdout",
     "output_type": "stream",
     "text": [
      "x_odd : [1, 2, 3, 4, 5, 6, 7, 8, 9, 10, 11]\n",
      "median : 6\n"
     ]
    }
   ],
   "source": [
    "x_odd = [1, 2, 3, 4, 5, 6, 7, 8, 9, 10, 11]\n",
    "print(f\"x_odd : {x_odd}\")\n",
    "print(f\"median : {median(x_odd)}\")"
   ]
  },
  {
   "cell_type": "markdown",
   "id": "2d002089",
   "metadata": {
    "slideshow": {
     "slide_type": "slide"
    }
   },
   "source": [
    "# Mode\n",
    "\n",
    "- Nilai dari dataset yang frekuensi kemunculannya paling tinggi.\n",
    "- Dataset dapat memiliki lebih dari satu mode (*multi-modal*)\n",
    "- Suatu dataset juga bisa tidak memiliki mode, ketika kemunculan dari setiap datanya sama."
   ]
  },
  {
   "cell_type": "code",
   "execution_count": 6,
   "id": "c5ce4c04",
   "metadata": {
    "ExecuteTime": {
     "end_time": "2022-02-25T23:43:05.397666Z",
     "start_time": "2022-02-25T23:43:05.359320Z"
    }
   },
   "outputs": [
    {
     "name": "stdout",
     "output_type": "stream",
     "text": [
      "x    : [1, 2, 3, 2, 4, 2, 5, 4, 5, 5, 5, 5]\n",
      "mode : 5\n"
     ]
    }
   ],
   "source": [
    "import statistics\n",
    "\n",
    "x = [1, 2, 3, 2, 4, 2, 5, 4, 5, 5, 5, 5]\n",
    "\n",
    "print(f\"x    : {x}\")\n",
    "print(f\"mode : {statistics.mode(x)}\")"
   ]
  },
  {
   "cell_type": "markdown",
   "id": "3b0d823e",
   "metadata": {
    "hide_input": true,
    "slideshow": {
     "slide_type": "slide"
    }
   },
   "source": [
    "# Kelebihan dan Kekurangan Mean\n",
    "\n",
    "- Mean cukup bisa diandalkan karena mean memperhitungkan setiap entri dari dataset.\n",
    "- Rentan terhadap outlier.\n",
    "- Median bisa menjadi alternatif, apabila pada dataset terdapat outlier."
   ]
  },
  {
   "cell_type": "markdown",
   "id": "8530417e",
   "metadata": {
    "lang": "id",
    "slideshow": {
     "slide_type": "slide"
    }
   },
   "source": [
    "# Outlier\n",
    "\n",
    "Nilai data yang sangat berbeda dari sebagian besar data atau nilai ekstrim"
   ]
  },
  {
   "cell_type": "code",
   "execution_count": 7,
   "id": "466ab775",
   "metadata": {
    "ExecuteTime": {
     "end_time": "2022-02-25T23:43:06.912973Z",
     "start_time": "2022-02-25T23:43:05.481984Z"
    },
    "hide_input": true
   },
   "outputs": [
    {
     "data": {
      "text/html": [
       "<div>\n",
       "<style scoped>\n",
       "    .dataframe tbody tr th:only-of-type {\n",
       "        vertical-align: middle;\n",
       "    }\n",
       "\n",
       "    .dataframe tbody tr th {\n",
       "        vertical-align: top;\n",
       "    }\n",
       "\n",
       "    .dataframe thead th {\n",
       "        text-align: right;\n",
       "    }\n",
       "</style>\n",
       "<table border=\"1\" class=\"dataframe\">\n",
       "  <thead>\n",
       "    <tr style=\"text-align: right;\">\n",
       "      <th></th>\n",
       "      <th>ages</th>\n",
       "    </tr>\n",
       "  </thead>\n",
       "  <tbody>\n",
       "    <tr>\n",
       "      <th>0</th>\n",
       "      <td>20</td>\n",
       "    </tr>\n",
       "    <tr>\n",
       "      <th>1</th>\n",
       "      <td>20</td>\n",
       "    </tr>\n",
       "    <tr>\n",
       "      <th>2</th>\n",
       "      <td>20</td>\n",
       "    </tr>\n",
       "    <tr>\n",
       "      <th>3</th>\n",
       "      <td>20</td>\n",
       "    </tr>\n",
       "    <tr>\n",
       "      <th>4</th>\n",
       "      <td>20</td>\n",
       "    </tr>\n",
       "    <tr>\n",
       "      <th>5</th>\n",
       "      <td>20</td>\n",
       "    </tr>\n",
       "    <tr>\n",
       "      <th>6</th>\n",
       "      <td>21</td>\n",
       "    </tr>\n",
       "    <tr>\n",
       "      <th>7</th>\n",
       "      <td>21</td>\n",
       "    </tr>\n",
       "    <tr>\n",
       "      <th>8</th>\n",
       "      <td>21</td>\n",
       "    </tr>\n",
       "    <tr>\n",
       "      <th>9</th>\n",
       "      <td>21</td>\n",
       "    </tr>\n",
       "    <tr>\n",
       "      <th>10</th>\n",
       "      <td>22</td>\n",
       "    </tr>\n",
       "    <tr>\n",
       "      <th>11</th>\n",
       "      <td>22</td>\n",
       "    </tr>\n",
       "    <tr>\n",
       "      <th>12</th>\n",
       "      <td>22</td>\n",
       "    </tr>\n",
       "    <tr>\n",
       "      <th>13</th>\n",
       "      <td>23</td>\n",
       "    </tr>\n",
       "    <tr>\n",
       "      <th>14</th>\n",
       "      <td>23</td>\n",
       "    </tr>\n",
       "    <tr>\n",
       "      <th>15</th>\n",
       "      <td>23</td>\n",
       "    </tr>\n",
       "    <tr>\n",
       "      <th>16</th>\n",
       "      <td>23</td>\n",
       "    </tr>\n",
       "    <tr>\n",
       "      <th>17</th>\n",
       "      <td>23</td>\n",
       "    </tr>\n",
       "    <tr>\n",
       "      <th>18</th>\n",
       "      <td>24</td>\n",
       "    </tr>\n",
       "    <tr>\n",
       "      <th>19</th>\n",
       "      <td>24</td>\n",
       "    </tr>\n",
       "    <tr>\n",
       "      <th>20</th>\n",
       "      <td>65</td>\n",
       "    </tr>\n",
       "  </tbody>\n",
       "</table>\n",
       "</div>"
      ],
      "text/plain": [
       "    ages\n",
       "0     20\n",
       "1     20\n",
       "2     20\n",
       "3     20\n",
       "4     20\n",
       "5     20\n",
       "6     21\n",
       "7     21\n",
       "8     21\n",
       "9     21\n",
       "10    22\n",
       "11    22\n",
       "12    22\n",
       "13    23\n",
       "14    23\n",
       "15    23\n",
       "16    23\n",
       "17    23\n",
       "18    24\n",
       "19    24\n",
       "20    65"
      ]
     },
     "execution_count": 7,
     "metadata": {},
     "output_type": "execute_result"
    }
   ],
   "source": [
    "import pandas as pd\n",
    "\n",
    "ages = pd.DataFrame({\n",
    "    \"ages\": [20, 20, 20, 20, 20, 20, 21, 21, 21, 21, 22, 22, 22, 23, 23, 23, 23, 23, 24, 24, 65]\n",
    "})\n",
    "\n",
    "ages"
   ]
  },
  {
   "cell_type": "code",
   "execution_count": 8,
   "id": "ba4aca40",
   "metadata": {
    "ExecuteTime": {
     "end_time": "2022-02-25T23:43:10.007468Z",
     "start_time": "2022-02-25T23:43:06.919430Z"
    },
    "hide_input": true,
    "lang": "en"
   },
   "outputs": [
    {
     "data": {
      "image/png": "[encoded data removed]",
      "text/plain": [
       "<Figure size 432x288 with 1 Axes>"
      ]
     },
     "metadata": {
      "needs_background": "light"
     },
     "output_type": "display_data"
    }
   ],
   "source": [
    "ages.plot(\n",
    "    kind=\"hist\",\n",
    "    bins=70,\n",
    "    title=\"Sebaran umur\",\n",
    "    legend=False\n",
    ");"
   ]
  },
  {
   "cell_type": "markdown",
   "id": "a6e3cf5a",
   "metadata": {},
   "source": [
    "- Terdapat gap antara umur 20-an dengan 60-an\n",
    "- Umur 60-an ke atas dapat dikategorikan sebagai outlier."
   ]
  },
  {
   "cell_type": "markdown",
   "id": "2d8dc528",
   "metadata": {
    "slideshow": {
     "slide_type": "slide"
    }
   },
   "source": [
    "# Weighted Mean\n",
    "- Nilai rerata dari suatu dataset dimana setiap entrinya memiliki bobot tertentu.\n",
    "- $\\bar{x}\\ =\\ \\frac{\\sum x . w}{\\sum w}$\n",
    "- Contoh:"
   ]
  },
  {
   "cell_type": "code",
   "execution_count": 9,
   "id": "1e19665a",
   "metadata": {
    "ExecuteTime": {
     "end_time": "2022-02-25T23:43:10.055427Z",
     "start_time": "2022-02-25T23:43:10.013427Z"
    },
    "hide_input": true
   },
   "outputs": [
    {
     "data": {
      "text/html": [
       "<div>\n",
       "<style scoped>\n",
       "    .dataframe tbody tr th:only-of-type {\n",
       "        vertical-align: middle;\n",
       "    }\n",
       "\n",
       "    .dataframe tbody tr th {\n",
       "        vertical-align: top;\n",
       "    }\n",
       "\n",
       "    .dataframe thead th {\n",
       "        text-align: right;\n",
       "    }\n",
       "</style>\n",
       "<table border=\"1\" class=\"dataframe\">\n",
       "  <thead>\n",
       "    <tr style=\"text-align: right;\">\n",
       "      <th></th>\n",
       "      <th>komponen_penilaian</th>\n",
       "      <th>nilai (x)</th>\n",
       "      <th>bobot (w)</th>\n",
       "      <th>x.w</th>\n",
       "    </tr>\n",
       "  </thead>\n",
       "  <tbody>\n",
       "    <tr>\n",
       "      <th>0</th>\n",
       "      <td>UTS</td>\n",
       "      <td>73</td>\n",
       "      <td>0.25</td>\n",
       "      <td>18.25</td>\n",
       "    </tr>\n",
       "    <tr>\n",
       "      <th>1</th>\n",
       "      <td>UAS</td>\n",
       "      <td>87</td>\n",
       "      <td>0.20</td>\n",
       "      <td>17.40</td>\n",
       "    </tr>\n",
       "    <tr>\n",
       "      <th>2</th>\n",
       "      <td>Tugas 1</td>\n",
       "      <td>94</td>\n",
       "      <td>0.25</td>\n",
       "      <td>23.50</td>\n",
       "    </tr>\n",
       "    <tr>\n",
       "      <th>3</th>\n",
       "      <td>Tugas 2</td>\n",
       "      <td>72</td>\n",
       "      <td>0.30</td>\n",
       "      <td>21.60</td>\n",
       "    </tr>\n",
       "  </tbody>\n",
       "</table>\n",
       "</div>"
      ],
      "text/plain": [
       "  komponen_penilaian  nilai (x)  bobot (w)    x.w\n",
       "0                UTS         73       0.25  18.25\n",
       "1                UAS         87       0.20  17.40\n",
       "2            Tugas 1         94       0.25  23.50\n",
       "3            Tugas 2         72       0.30  21.60"
      ]
     },
     "execution_count": 9,
     "metadata": {},
     "output_type": "execute_result"
    }
   ],
   "source": [
    "daftar_nilai = pd.DataFrame(\n",
    "    data={\n",
    "        \"komponen_penilaian\": [\"UTS\", \"UAS\", \"Tugas 1\", \"Tugas 2\"],\n",
    "        \"nilai (x)\": [73, 87, 94, 72],\n",
    "        \"bobot (w)\": [0.25, 0.20, 0.25, 0.30]\n",
    "    }\n",
    ")\n",
    "\n",
    "daftar_nilai[\"x.w\"] = daftar_nilai[\"nilai (x)\"] * daftar_nilai[\"bobot (w)\"]\n",
    "\n",
    "daftar_nilai"
   ]
  },
  {
   "cell_type": "code",
   "execution_count": 10,
   "id": "37094f82",
   "metadata": {
    "ExecuteTime": {
     "end_time": "2022-02-25T23:43:10.080149Z",
     "start_time": "2022-02-25T23:43:10.064209Z"
    }
   },
   "outputs": [
    {
     "name": "stdout",
     "output_type": "stream",
     "text": [
      "Weighted Mean: 80.75\n"
     ]
    }
   ],
   "source": [
    "weigthed_mean = daftar_nilai['x.w'].sum() / daftar_nilai['bobot (w)'].sum()\n",
    "print(f\"Weighted Mean: {weigthed_mean}\")"
   ]
  },
  {
   "cell_type": "markdown",
   "id": "0a0fb55e",
   "metadata": {
    "slideshow": {
     "slide_type": "slide"
    }
   },
   "source": [
    "# Mean of Grouped Data (Frequency Data)\n",
    "\n",
    "- Melakukan estimasi nilai rerata dengan menggunakan frekuensi.\n",
    "- $\\bar{x}\\ =\\ \\frac{\\sum (x.f)}{n}$\n",
    "- Contoh:"
   ]
  },
  {
   "cell_type": "code",
   "execution_count": 11,
   "id": "90dde41e",
   "metadata": {
    "ExecuteTime": {
     "end_time": "2022-02-25T23:43:10.129256Z",
     "start_time": "2022-02-25T23:43:10.085476Z"
    },
    "hide_input": true
   },
   "outputs": [
    {
     "data": {
      "text/html": [
       "<div>\n",
       "<style scoped>\n",
       "    .dataframe tbody tr th:only-of-type {\n",
       "        vertical-align: middle;\n",
       "    }\n",
       "\n",
       "    .dataframe tbody tr th {\n",
       "        vertical-align: top;\n",
       "    }\n",
       "\n",
       "    .dataframe thead th {\n",
       "        text-align: right;\n",
       "    }\n",
       "</style>\n",
       "<table border=\"1\" class=\"dataframe\">\n",
       "  <thead>\n",
       "    <tr style=\"text-align: right;\">\n",
       "      <th></th>\n",
       "      <th>class_midpoint (x)</th>\n",
       "      <th>frekuensi (f)</th>\n",
       "      <th>x.f</th>\n",
       "    </tr>\n",
       "  </thead>\n",
       "  <tbody>\n",
       "    <tr>\n",
       "      <th>0</th>\n",
       "      <td>12.5</td>\n",
       "      <td>6</td>\n",
       "      <td>75.0</td>\n",
       "    </tr>\n",
       "    <tr>\n",
       "      <th>1</th>\n",
       "      <td>24.5</td>\n",
       "      <td>10</td>\n",
       "      <td>245.0</td>\n",
       "    </tr>\n",
       "    <tr>\n",
       "      <th>2</th>\n",
       "      <td>36.5</td>\n",
       "      <td>13</td>\n",
       "      <td>474.5</td>\n",
       "    </tr>\n",
       "    <tr>\n",
       "      <th>3</th>\n",
       "      <td>48.5</td>\n",
       "      <td>8</td>\n",
       "      <td>388.0</td>\n",
       "    </tr>\n",
       "    <tr>\n",
       "      <th>4</th>\n",
       "      <td>60.5</td>\n",
       "      <td>5</td>\n",
       "      <td>302.5</td>\n",
       "    </tr>\n",
       "    <tr>\n",
       "      <th>5</th>\n",
       "      <td>72.5</td>\n",
       "      <td>6</td>\n",
       "      <td>435.0</td>\n",
       "    </tr>\n",
       "    <tr>\n",
       "      <th>6</th>\n",
       "      <td>84.5</td>\n",
       "      <td>2</td>\n",
       "      <td>169.0</td>\n",
       "    </tr>\n",
       "  </tbody>\n",
       "</table>\n",
       "</div>"
      ],
      "text/plain": [
       "   class_midpoint (x)  frekuensi (f)    x.f\n",
       "0                12.5              6   75.0\n",
       "1                24.5             10  245.0\n",
       "2                36.5             13  474.5\n",
       "3                48.5              8  388.0\n",
       "4                60.5              5  302.5\n",
       "5                72.5              6  435.0\n",
       "6                84.5              2  169.0"
      ]
     },
     "execution_count": 11,
     "metadata": {},
     "output_type": "execute_result"
    }
   ],
   "source": [
    "data = pd.DataFrame(\n",
    "    data={\n",
    "        \"class_midpoint (x)\": [12.5, 24.5, 36.5, 48.5, 60.5, 72.5, 84.5],\n",
    "        \"frekuensi (f)\": [6, 10, 13, 8, 5, 6, 2]\n",
    "    }\n",
    ")\n",
    "\n",
    "data[\"x.f\"] = data[\"class_midpoint (x)\"] * data[\"frekuensi (f)\"]\n",
    "\n",
    "data"
   ]
  },
  {
   "cell_type": "code",
   "execution_count": 12,
   "id": "19290b0b",
   "metadata": {
    "ExecuteTime": {
     "end_time": "2022-02-25T23:43:10.160795Z",
     "start_time": "2022-02-25T23:43:10.132889Z"
    },
    "hide_input": true
   },
   "outputs": [
    {
     "name": "stdout",
     "output_type": "stream",
     "text": [
      "Grouped Mean: 41.78\n"
     ]
    }
   ],
   "source": [
    "grouped_mean = data['x.f'].sum() / data['frekuensi (f)'].sum()\n",
    "print(f\"Grouped Mean: {grouped_mean}\")"
   ]
  },
  {
   "cell_type": "markdown",
   "id": "afea6742",
   "metadata": {
    "slideshow": {
     "slide_type": "slide"
    }
   },
   "source": [
    "# Bentuk-bentuk Distribusi"
   ]
  },
  {
   "cell_type": "markdown",
   "id": "83019619",
   "metadata": {},
   "source": [
    "## Symmetric Distribution\n",
    "\n",
    "- Bentuk distribusi berbentuk lonceng, dimana mean, median dan mode memiliki nilai yang sama."
   ]
  },
  {
   "cell_type": "code",
   "execution_count": 13,
   "id": "2a65e632",
   "metadata": {
    "ExecuteTime": {
     "end_time": "2022-02-25T23:43:10.194522Z",
     "start_time": "2022-02-25T23:43:10.167060Z"
    },
    "hide_input": true
   },
   "outputs": [
    {
     "data": {
      "text/html": [
       "<div>\n",
       "<style scoped>\n",
       "    .dataframe tbody tr th:only-of-type {\n",
       "        vertical-align: middle;\n",
       "    }\n",
       "\n",
       "    .dataframe tbody tr th {\n",
       "        vertical-align: top;\n",
       "    }\n",
       "\n",
       "    .dataframe thead th {\n",
       "        text-align: right;\n",
       "    }\n",
       "</style>\n",
       "<table border=\"1\" class=\"dataframe\">\n",
       "  <thead>\n",
       "    <tr style=\"text-align: right;\">\n",
       "      <th></th>\n",
       "      <th>x</th>\n",
       "    </tr>\n",
       "  </thead>\n",
       "  <tbody>\n",
       "    <tr>\n",
       "      <th>0</th>\n",
       "      <td>0.588758</td>\n",
       "    </tr>\n",
       "    <tr>\n",
       "      <th>1</th>\n",
       "      <td>1.374213</td>\n",
       "    </tr>\n",
       "    <tr>\n",
       "      <th>2</th>\n",
       "      <td>0.344797</td>\n",
       "    </tr>\n",
       "    <tr>\n",
       "      <th>3</th>\n",
       "      <td>-2.261870</td>\n",
       "    </tr>\n",
       "    <tr>\n",
       "      <th>4</th>\n",
       "      <td>0.160461</td>\n",
       "    </tr>\n",
       "  </tbody>\n",
       "</table>\n",
       "</div>"
      ],
      "text/plain": [
       "          x\n",
       "0  0.588758\n",
       "1  1.374213\n",
       "2  0.344797\n",
       "3 -2.261870\n",
       "4  0.160461"
      ]
     },
     "execution_count": 13,
     "metadata": {},
     "output_type": "execute_result"
    }
   ],
   "source": [
    "import numpy as np\n",
    "\n",
    "x_symmetric = pd.DataFrame(\n",
    "    data={\n",
    "        \"x\": np.random.randn(1000)\n",
    "    }\n",
    ")\n",
    "\n",
    "x_symmetric.head()"
   ]
  },
  {
   "cell_type": "code",
   "execution_count": 14,
   "id": "d4ba63b1",
   "metadata": {
    "ExecuteTime": {
     "end_time": "2022-02-25T23:43:10.608372Z",
     "start_time": "2022-02-25T23:43:10.200191Z"
    },
    "hide_input": true
   },
   "outputs": [
    {
     "data": {
      "image/png": "[encoded data removed]",
      "text/plain": [
       "<Figure size 432x288 with 1 Axes>"
      ]
     },
     "metadata": {
      "needs_background": "light"
     },
     "output_type": "display_data"
    }
   ],
   "source": [
    "x_symmetric.plot(kind=\"hist\", title=\"Symmetric Distribution Histogram\", legend=False);"
   ]
  },
  {
   "cell_type": "code",
   "execution_count": 15,
   "id": "350ac389",
   "metadata": {
    "ExecuteTime": {
     "end_time": "2022-02-25T23:43:10.643151Z",
     "start_time": "2022-02-25T23:43:10.614307Z"
    }
   },
   "outputs": [
    {
     "name": "stdout",
     "output_type": "stream",
     "text": [
      "Mean symmetric   : 0.01523715502033378\n",
      "Median symmetric : 0.026015388368887303\n",
      "Mode symmetric   : 0.5887580578337174\n"
     ]
    }
   ],
   "source": [
    "mean_symmetric = statistics.mean(x_symmetric.values.flatten())\n",
    "median_symmetric = statistics.median(x_symmetric.values.flatten())\n",
    "mode_symmetric = statistics.mode(x_symmetric.values.flatten())\n",
    "\n",
    "print(f\"Mean symmetric   : {mean_symmetric}\")\n",
    "print(f\"Median symmetric : {median_symmetric}\")\n",
    "print(f\"Mode symmetric   : {mode_symmetric}\")"
   ]
  },
  {
   "cell_type": "markdown",
   "id": "937dcebb",
   "metadata": {
    "slideshow": {
     "slide_type": "subslide"
    }
   },
   "source": [
    "## Uniform Distribution\n",
    "\n",
    "Frekuensi untuk setiap entri data hampir bernilai sama."
   ]
  },
  {
   "cell_type": "code",
   "execution_count": 16,
   "id": "5a3368dc",
   "metadata": {
    "ExecuteTime": {
     "end_time": "2022-02-25T23:43:10.695693Z",
     "start_time": "2022-02-25T23:43:10.654352Z"
    },
    "hide_input": true
   },
   "outputs": [
    {
     "data": {
      "text/html": [
       "<div>\n",
       "<style scoped>\n",
       "    .dataframe tbody tr th:only-of-type {\n",
       "        vertical-align: middle;\n",
       "    }\n",
       "\n",
       "    .dataframe tbody tr th {\n",
       "        vertical-align: top;\n",
       "    }\n",
       "\n",
       "    .dataframe thead th {\n",
       "        text-align: right;\n",
       "    }\n",
       "</style>\n",
       "<table border=\"1\" class=\"dataframe\">\n",
       "  <thead>\n",
       "    <tr style=\"text-align: right;\">\n",
       "      <th></th>\n",
       "      <th>x</th>\n",
       "    </tr>\n",
       "  </thead>\n",
       "  <tbody>\n",
       "    <tr>\n",
       "      <th>0</th>\n",
       "      <td>547.064540</td>\n",
       "    </tr>\n",
       "    <tr>\n",
       "      <th>1</th>\n",
       "      <td>68.773945</td>\n",
       "    </tr>\n",
       "    <tr>\n",
       "      <th>2</th>\n",
       "      <td>975.860104</td>\n",
       "    </tr>\n",
       "    <tr>\n",
       "      <th>3</th>\n",
       "      <td>979.674295</td>\n",
       "    </tr>\n",
       "    <tr>\n",
       "      <th>4</th>\n",
       "      <td>347.780727</td>\n",
       "    </tr>\n",
       "  </tbody>\n",
       "</table>\n",
       "</div>"
      ],
      "text/plain": [
       "            x\n",
       "0  547.064540\n",
       "1   68.773945\n",
       "2  975.860104\n",
       "3  979.674295\n",
       "4  347.780727"
      ]
     },
     "execution_count": 16,
     "metadata": {},
     "output_type": "execute_result"
    }
   ],
   "source": [
    "x_uniform = pd.DataFrame(\n",
    "    data={\n",
    "        \"x\": np.random.uniform(low=0, high=1000, size=(1000))\n",
    "    }\n",
    ")\n",
    "\n",
    "x_uniform.head()"
   ]
  },
  {
   "cell_type": "code",
   "execution_count": 17,
   "id": "ed55aa9e",
   "metadata": {
    "ExecuteTime": {
     "end_time": "2022-02-25T23:43:11.362399Z",
     "start_time": "2022-02-25T23:43:10.701932Z"
    },
    "hide_input": true
   },
   "outputs": [
    {
     "data": {
      "image/png": "[encoded data removed]",
      "text/plain": [
       "<Figure size 432x288 with 1 Axes>"
      ]
     },
     "metadata": {
      "needs_background": "light"
     },
     "output_type": "display_data"
    }
   ],
   "source": [
    "x_uniform.plot(kind=\"hist\", title=\"Uniform Distribution Histogram\", legend=False);"
   ]
  },
  {
   "cell_type": "code",
   "execution_count": 18,
   "id": "e156029d",
   "metadata": {
    "ExecuteTime": {
     "end_time": "2022-02-25T23:43:11.450593Z",
     "start_time": "2022-02-25T23:43:11.375813Z"
    },
    "hide_input": true
   },
   "outputs": [
    {
     "name": "stdout",
     "output_type": "stream",
     "text": [
      "Mean uniform   : 515.3338912335666\n",
      "Median uniform : 512.0574148725211\n",
      "Mode uniform   : 547.064539684714\n"
     ]
    }
   ],
   "source": [
    "mean_uniform = statistics.mean(x_uniform.values.flatten())\n",
    "median_uniform = statistics.median(x_uniform.values.flatten())\n",
    "mode_uniform = statistics.mode(x_uniform.values.flatten())\n",
    "\n",
    "print(f\"Mean uniform   : {mean_uniform}\")\n",
    "print(f\"Median uniform : {median_uniform}\")\n",
    "print(f\"Mode uniform   : {mode_uniform}\")"
   ]
  },
  {
   "cell_type": "markdown",
   "id": "961dbef6",
   "metadata": {
    "slideshow": {
     "slide_type": "subslide"
    }
   },
   "source": [
    "## Skewed Left Distribution\n",
    "\n",
    "- Nilai outlier berada di sebelah kiri histogram.\n",
    "- Nilai mean tertarik ke kiri.\n",
    "- Mean < Median."
   ]
  },
  {
   "cell_type": "code",
   "execution_count": 19,
   "id": "f5e23b94",
   "metadata": {
    "ExecuteTime": {
     "end_time": "2022-02-25T23:43:11.529518Z",
     "start_time": "2022-02-25T23:43:11.462829Z"
    },
    "hide_input": false
   },
   "outputs": [
    {
     "data": {
      "text/html": [
       "<div>\n",
       "<style scoped>\n",
       "    .dataframe tbody tr th:only-of-type {\n",
       "        vertical-align: middle;\n",
       "    }\n",
       "\n",
       "    .dataframe tbody tr th {\n",
       "        vertical-align: top;\n",
       "    }\n",
       "\n",
       "    .dataframe thead th {\n",
       "        text-align: right;\n",
       "    }\n",
       "</style>\n",
       "<table border=\"1\" class=\"dataframe\">\n",
       "  <thead>\n",
       "    <tr style=\"text-align: right;\">\n",
       "      <th></th>\n",
       "      <th>x</th>\n",
       "    </tr>\n",
       "  </thead>\n",
       "  <tbody>\n",
       "    <tr>\n",
       "      <th>0</th>\n",
       "      <td>0.759042</td>\n",
       "    </tr>\n",
       "    <tr>\n",
       "      <th>1</th>\n",
       "      <td>0.795948</td>\n",
       "    </tr>\n",
       "    <tr>\n",
       "      <th>2</th>\n",
       "      <td>0.920249</td>\n",
       "    </tr>\n",
       "    <tr>\n",
       "      <th>3</th>\n",
       "      <td>0.759652</td>\n",
       "    </tr>\n",
       "    <tr>\n",
       "      <th>4</th>\n",
       "      <td>0.976675</td>\n",
       "    </tr>\n",
       "  </tbody>\n",
       "</table>\n",
       "</div>"
      ],
      "text/plain": [
       "          x\n",
       "0  0.759042\n",
       "1  0.795948\n",
       "2  0.920249\n",
       "3  0.759652\n",
       "4  0.976675"
      ]
     },
     "execution_count": 19,
     "metadata": {},
     "output_type": "execute_result"
    }
   ],
   "source": [
    "a = 5. # shape\n",
    "samples = 1000\n",
    "\n",
    "x_skewed_left = pd.DataFrame(\n",
    "    data={\n",
    "        \"x\": np.random.power(a, samples)\n",
    "    }\n",
    ")\n",
    "\n",
    "x_skewed_left.head()"
   ]
  },
  {
   "cell_type": "code",
   "execution_count": null,
   "id": "3e4421a2",
   "metadata": {
    "ExecuteTime": {
     "end_time": "2022-02-25T23:43:13.521118Z",
     "start_time": "2022-02-25T23:43:13.521118Z"
    },
    "hide_input": true
   },
   "outputs": [],
   "source": [
    "x_skewed_left.plot(kind=\"hist\", title=\"Skewed Left Distribution Histogram\", legend=False);"
   ]
  },
  {
   "cell_type": "code",
   "execution_count": null,
   "id": "9e0b51d4",
   "metadata": {
    "ExecuteTime": {
     "end_time": "2022-02-25T23:43:13.526846Z",
     "start_time": "2022-02-25T23:43:13.526846Z"
    },
    "hide_input": true
   },
   "outputs": [],
   "source": [
    "mean_skewed_left = statistics.mean(x_skewed_left.values.flatten())\n",
    "median_skewed_left = statistics.median(x_skewed_left.values.flatten())\n",
    "mode_skewed_left = statistics.mode(x_skewed_left.values.flatten())\n",
    "\n",
    "print(f\"Mean skewed_left   : {mean_skewed_left}\")\n",
    "print(f\"Median skewed_left : {median_skewed_left}\")\n",
    "print(f\"Mode skewed_left   : {mode_skewed_left}\")"
   ]
  },
  {
   "cell_type": "markdown",
   "id": "ddc2114c",
   "metadata": {
    "slideshow": {
     "slide_type": "subslide"
    }
   },
   "source": [
    "## Skewed Right Distribution\n",
    "\n",
    "- Nilai outlier berada di sebelah kanan histogram.\n",
    "- Nilai mean tertarik ke kanan.\n",
    "- Mean > Median."
   ]
  },
  {
   "cell_type": "code",
   "execution_count": 22,
   "id": "d1d46071",
   "metadata": {
    "ExecuteTime": {
     "end_time": "2022-02-25T23:44:46.923612Z",
     "start_time": "2022-02-25T23:44:46.900202Z"
    },
    "hide_input": false
   },
   "outputs": [
    {
     "data": {
      "text/html": [
       "<div>\n",
       "<style scoped>\n",
       "    .dataframe tbody tr th:only-of-type {\n",
       "        vertical-align: middle;\n",
       "    }\n",
       "\n",
       "    .dataframe tbody tr th {\n",
       "        vertical-align: top;\n",
       "    }\n",
       "\n",
       "    .dataframe thead th {\n",
       "        text-align: right;\n",
       "    }\n",
       "</style>\n",
       "<table border=\"1\" class=\"dataframe\">\n",
       "  <thead>\n",
       "    <tr style=\"text-align: right;\">\n",
       "      <th></th>\n",
       "      <th>x</th>\n",
       "    </tr>\n",
       "  </thead>\n",
       "  <tbody>\n",
       "    <tr>\n",
       "      <th>0</th>\n",
       "      <td>2.050917</td>\n",
       "    </tr>\n",
       "    <tr>\n",
       "      <th>1</th>\n",
       "      <td>2.011621</td>\n",
       "    </tr>\n",
       "    <tr>\n",
       "      <th>2</th>\n",
       "      <td>2.032075</td>\n",
       "    </tr>\n",
       "    <tr>\n",
       "      <th>3</th>\n",
       "      <td>2.246204</td>\n",
       "    </tr>\n",
       "    <tr>\n",
       "      <th>4</th>\n",
       "      <td>2.219818</td>\n",
       "    </tr>\n",
       "  </tbody>\n",
       "</table>\n",
       "</div>"
      ],
      "text/plain": [
       "          x\n",
       "0  2.050917\n",
       "1  2.011621\n",
       "2  2.032075\n",
       "3  2.246204\n",
       "4  2.219818"
      ]
     },
     "execution_count": 22,
     "metadata": {},
     "output_type": "execute_result"
    }
   ],
   "source": [
    "a, m = 3., 2. # shape and mode\n",
    "\n",
    "x_skewed_right = pd.DataFrame(\n",
    "    data={\n",
    "        \"x\": (np.random.pareto(a, 100) + 1) * m\n",
    "    }\n",
    ")\n",
    "\n",
    "x_skewed_right.head()"
   ]
  },
  {
   "cell_type": "code",
   "execution_count": 23,
   "id": "8e606dcd",
   "metadata": {
    "ExecuteTime": {
     "end_time": "2022-02-25T23:44:56.487175Z",
     "start_time": "2022-02-25T23:44:56.159270Z"
    },
    "hide_input": false
   },
   "outputs": [
    {
     "data": {
      "image/png": "[encoded data removed]",
      "text/plain": [
       "<Figure size 432x288 with 1 Axes>"
      ]
     },
     "metadata": {
      "needs_background": "light"
     },
     "output_type": "display_data"
    }
   ],
   "source": [
    "x_skewed_right.plot(kind=\"hist\", title=\"Skewed Right Distribution Histogram\", legend=False);"
   ]
  },
  {
   "cell_type": "code",
   "execution_count": 24,
   "id": "2cdbbfc0",
   "metadata": {
    "ExecuteTime": {
     "end_time": "2022-02-25T23:44:58.613051Z",
     "start_time": "2022-02-25T23:44:58.590229Z"
    }
   },
   "outputs": [
    {
     "name": "stdout",
     "output_type": "stream",
     "text": [
      "Mean skewed_right   : 3.0151044556089\n",
      "Median skewed_right : 2.406707700155237\n",
      "Mode skewed_right   : 2.05091732646368\n"
     ]
    }
   ],
   "source": [
    "mean_skewed_right = statistics.mean(x_skewed_right.values.flatten())\n",
    "median_skewed_right = statistics.median(x_skewed_right.values.flatten())\n",
    "mode_skewed_right = statistics.mode(x_skewed_right.values.flatten())\n",
    "\n",
    "print(f\"Mean skewed_right   : {mean_skewed_right}\")\n",
    "print(f\"Median skewed_right : {median_skewed_right}\")\n",
    "print(f\"Mode skewed_right   : {mode_skewed_right}\")"
   ]
  }
 ],
 "metadata": {
  "celltoolbar": "Slideshow",
  "kernelspec": {
   "display_name": "Python 3 (ipykernel)",
   "language": "python",
   "name": "python3"
  },
  "language_info": {
   "codemirror_mode": {
    "name": "ipython",
    "version": 3
   },
   "file_extension": ".py",
   "mimetype": "text/x-python",
   "name": "python",
   "nbconvert_exporter": "python",
   "pygments_lexer": "ipython3",
   "version": "3.8.12"
  },
  "nbTranslate": {
   "displayLangs": [
    "id"
   ],
   "hotkey": "alt-t",
   "langInMainMenu": true,
   "sourceLang": "en",
   "targetLang": "id",
   "useGoogleTranslate": true
  },
  "toc": {
   "base_numbering": 1,
   "nav_menu": {},
   "number_sections": true,
   "sideBar": true,
   "skip_h1_title": false,
   "title_cell": "Table of Contents",
   "title_sidebar": "Contents",
   "toc_cell": false,
   "toc_position": {},
   "toc_section_display": true,
   "toc_window_display": false
  }
 },
 "nbformat": 4,
 "nbformat_minor": 5
}
