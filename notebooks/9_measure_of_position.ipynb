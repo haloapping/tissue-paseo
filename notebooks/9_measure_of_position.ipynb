{
 "cells": [
  {
   "cell_type": "markdown",
   "id": "1c8f714b",
   "metadata": {
    "slideshow": {
     "slide_type": "slide"
    }
   },
   "source": [
    "# Measure of Position\n",
    "\n",
    "- Suatu pengukuran  nilai yang digunakan untuk menentukan posisi relatif dari suatu entri data (data point) pada dataset.\n",
    "- Terdiri dari quartile, percentile, standard score."
   ]
  },
  {
   "cell_type": "markdown",
   "id": "1f8b3ed6",
   "metadata": {
    "slideshow": {
     "slide_type": "slide"
    }
   },
   "source": [
    "# Quartile (Kuartil)\n",
    "\n",
    "- Nilai yang membagi suatu dataset terurut menjadi emapt bagian yang sama.\n",
    "- Terdapat tiga nilai quartile, yaitu $Q_1$, $Q_2$/median dan $Q_3$.\n",
    "- Kumpulan data harus terurut untuk menentukan kuartil.\n",
    "- Contoh:<img src=\"../images/quartile-example.png\" width=\"500\">"
   ]
  },
  {
   "cell_type": "markdown",
   "id": "3aef45b1",
   "metadata": {
    "slideshow": {
     "slide_type": "slide"
    }
   },
   "source": [
    "# Interquartile Range (IQR)\n",
    "\n",
    "- Menselisihkan nilai $Q_3$ dan $Q_1$.\n",
    "- $IQR\\ =\\ Q_3\\ -\\ Q_1$\n",
    "- Deteksi outlier:\n",
    "    - Lebih kecil dari $Q_1\\ -\\ 1.5(IQR)$\n",
    "    - Lebih besar dari $Q_3\\ +\\ 1.5(IQR)$\n",
    "- Contoh:<img src=\"../images/quartile-example.png\" width=\"500\">\n",
    "Apakah data 104 termasuk data outlier?\n",
    "\n",
    "    Answer:\n",
    "    \n",
    "    $Q_1 - 1.5(IQR)\\ =\\ 9\\ -\\ 36\\ =\\ -27$\n",
    "    $Q_3 + 1.5(IQR)\\ =\\ 33\\ -\\ 36\\ =\\ 69$\n",
    "    \n",
    "    Maka, nilai 104 termasuk outlier."
   ]
  },
  {
   "cell_type": "markdown",
   "id": "08509522",
   "metadata": {
    "slideshow": {
     "slide_type": "slide"
    }
   },
   "source": [
    "# Percentile (Persentil)\n",
    "\n",
    "- Nilai yang telah diurutkan dibagi menjadi 100 bagian yang sama.\n",
    "- Terdapat 99 nilai persentil, yaitu: $P_1,\\ P_2,\\ P_3,\\ ...,\\ P_{99}$\n",
    "\n",
    "\n",
    "- $percentile\\ =\\ \\frac{position\\text{_}of\\text{_}data}{number\\text{_}of\\text{_}data} . 100$\n",
    "\n",
    "\n",
    "- $P_{25}$ sama dengan $Q_1$\n",
    "- $P_{50}$ sama dengan $Q_2$\n",
    "- $P_{75}$ sama dengan $Q_3$\n",
    "- Nilai lebih kecil dari $P_5$ atau nilai lebih besar dari $P_95$ dikategorikan outlier."
   ]
  },
  {
   "cell_type": "markdown",
   "id": "e3aaea7e",
   "metadata": {
    "ExecuteTime": {
     "end_time": "2022-02-26T13:00:59.287247Z",
     "start_time": "2022-02-26T13:00:59.273339Z"
    }
   },
   "source": [
    "# Standard Score\n",
    "\n",
    "- Merepresentasikan nilai simpangan suatu entri data terhadap mean dari dataset yang diukur berdasarkan standard deviation.\n",
    "- Nilai dapat positif, negatif, dan nol.\n",
    "- $zscore\\ =\\ \\frac{x - \\mu}{\\sigma}$\n",
    "- Deteksi outlier <img src=\"../images/z-score-outlier.png\" width=\"500\">"
   ]
  },
  {
   "cell_type": "code",
   "execution_count": 1,
   "id": "081a689f",
   "metadata": {
    "ExecuteTime": {
     "end_time": "2022-02-26T13:28:23.303774Z",
     "start_time": "2022-02-26T13:28:21.364277Z"
    }
   },
   "outputs": [
    {
     "data": {
      "text/html": [
       "<div>\n",
       "<style scoped>\n",
       "    .dataframe tbody tr th:only-of-type {\n",
       "        vertical-align: middle;\n",
       "    }\n",
       "\n",
       "    .dataframe tbody tr th {\n",
       "        vertical-align: top;\n",
       "    }\n",
       "\n",
       "    .dataframe thead th {\n",
       "        text-align: right;\n",
       "    }\n",
       "</style>\n",
       "<table border=\"1\" class=\"dataframe\">\n",
       "  <thead>\n",
       "    <tr style=\"text-align: right;\">\n",
       "      <th></th>\n",
       "      <th>$\\mu$</th>\n",
       "      <th>$\\sigma$</th>\n",
       "    </tr>\n",
       "  </thead>\n",
       "  <tbody>\n",
       "    <tr>\n",
       "      <th>men's heights (inches)</th>\n",
       "      <td>69.9</td>\n",
       "      <td>3.0</td>\n",
       "    </tr>\n",
       "    <tr>\n",
       "      <th>women's heights (inches)</th>\n",
       "      <td>64.3</td>\n",
       "      <td>2.6</td>\n",
       "    </tr>\n",
       "  </tbody>\n",
       "</table>\n",
       "</div>"
      ],
      "text/plain": [
       "                          $\\mu$  $\\sigma$\n",
       "men's heights (inches)     69.9       3.0\n",
       "women's heights (inches)   64.3       2.6"
      ]
     },
     "execution_count": 1,
     "metadata": {},
     "output_type": "execute_result"
    }
   ],
   "source": [
    "import pandas as pd\n",
    "\n",
    "data = pd.DataFrame(\n",
    "    data={\n",
    "        \"$\\mu$\": [69.9, 64.3],\n",
    "        \"$\\sigma$\": [3.0, 2.6]\n",
    "    },\n",
    "    index=[\"men's heights (inches)\", \"women's heights (inches)\"]\n",
    ")\n",
    "\n",
    "height = 72\n",
    "\n",
    "data"
   ]
  },
  {
   "cell_type": "code",
   "execution_count": 2,
   "id": "594da53e",
   "metadata": {
    "ExecuteTime": {
     "end_time": "2022-02-26T13:28:23.336187Z",
     "start_time": "2022-02-26T13:28:23.311762Z"
    }
   },
   "outputs": [
    {
     "name": "stdout",
     "output_type": "stream",
     "text": [
      "z-score men heights   : 0.6999999999999981\n",
      "z-score women heights : 2.9615384615384626\n"
     ]
    }
   ],
   "source": [
    "zscore_men_heights = (height - 69.9) / 3.0\n",
    "zscore_women_heights = (height - 64.3) / 2.6\n",
    "\n",
    "print(f\"z-score men heights   : {zscore_men_heights}\")\n",
    "print(f\"z-score women heights : {zscore_women_heights}\")"
   ]
  }
 ],
 "metadata": {
  "celltoolbar": "Slideshow",
  "kernelspec": {
   "display_name": "Python 3 (ipykernel)",
   "language": "python",
   "name": "python3"
  },
  "language_info": {
   "codemirror_mode": {
    "name": "ipython",
    "version": 3
   },
   "file_extension": ".py",
   "mimetype": "text/x-python",
   "name": "python",
   "nbconvert_exporter": "python",
   "pygments_lexer": "ipython3",
   "version": "3.8.12"
  },
  "nbTranslate": {
   "displayLangs": [
    "*"
   ],
   "hotkey": "alt-t",
   "langInMainMenu": true,
   "sourceLang": "en",
   "targetLang": "fr",
   "useGoogleTranslate": true
  },
  "toc": {
   "base_numbering": 1,
   "nav_menu": {},
   "number_sections": true,
   "sideBar": true,
   "skip_h1_title": false,
   "title_cell": "Table of Contents",
   "title_sidebar": "Contents",
   "toc_cell": false,
   "toc_position": {},
   "toc_section_display": true,
   "toc_window_display": false
  }
 },
 "nbformat": 4,
 "nbformat_minor": 5
}
