{
 "cells": [
  {
   "cell_type": "code",
   "execution_count": 1,
   "id": "334ec7e5",
   "metadata": {
    "ExecuteTime": {
     "end_time": "2022-02-24T07:26:13.189556Z",
     "start_time": "2022-02-24T07:26:12.687936Z"
    },
    "hide_input": true
   },
   "outputs": [],
   "source": [
    "import pandas as pd"
   ]
  },
  {
   "cell_type": "markdown",
   "id": "aaf4d257",
   "metadata": {
    "slideshow": {
     "slide_type": "slide"
    }
   },
   "source": [
    "# Tipe Data\n",
    "\n",
    "## Definisi\n",
    "\n",
    "1. Data kualitatif adalah data bertipe non-numerik, seperti label dan atribut.\n",
    "\n",
    "\n",
    "2. Data kuantitatif adalah data bertipe numerik, seperti penghitungan dan pengukuran."
   ]
  },
  {
   "cell_type": "markdown",
   "id": "bdfeac22",
   "metadata": {
    "slideshow": {
     "slide_type": "subslide"
    }
   },
   "source": [
    "## Contoh - Menu Martabak"
   ]
  },
  {
   "cell_type": "code",
   "execution_count": 2,
   "id": "325b2f7a",
   "metadata": {
    "ExecuteTime": {
     "end_time": "2022-02-24T07:26:13.220800Z",
     "start_time": "2022-02-24T07:26:13.189556Z"
    },
    "hide_input": true
   },
   "outputs": [
    {
     "data": {
      "text/html": [
       "<div>\n",
       "<style scoped>\n",
       "    .dataframe tbody tr th:only-of-type {\n",
       "        vertical-align: middle;\n",
       "    }\n",
       "\n",
       "    .dataframe tbody tr th {\n",
       "        vertical-align: top;\n",
       "    }\n",
       "\n",
       "    .dataframe thead th {\n",
       "        text-align: right;\n",
       "    }\n",
       "</style>\n",
       "<table border=\"1\" class=\"dataframe\">\n",
       "  <thead>\n",
       "    <tr style=\"text-align: right;\">\n",
       "      <th></th>\n",
       "      <th>nama (kualitatif)</th>\n",
       "      <th>harga (kuantitatif)</th>\n",
       "    </tr>\n",
       "  </thead>\n",
       "  <tbody>\n",
       "    <tr>\n",
       "      <th>0</th>\n",
       "      <td>Martabak Keju Coklat</td>\n",
       "      <td>25000</td>\n",
       "    </tr>\n",
       "    <tr>\n",
       "      <th>1</th>\n",
       "      <td>Martabak Sapi 3 Telur</td>\n",
       "      <td>18000</td>\n",
       "    </tr>\n",
       "    <tr>\n",
       "      <th>2</th>\n",
       "      <td>Martabak Ayam 2 Telur</td>\n",
       "      <td>30000</td>\n",
       "    </tr>\n",
       "    <tr>\n",
       "      <th>3</th>\n",
       "      <td>Martabak Coklat Kacang Jumbo</td>\n",
       "      <td>40000</td>\n",
       "    </tr>\n",
       "  </tbody>\n",
       "</table>\n",
       "</div>"
      ],
      "text/plain": [
       "              nama (kualitatif)  harga (kuantitatif)\n",
       "0          Martabak Keju Coklat                25000\n",
       "1         Martabak Sapi 3 Telur                18000\n",
       "2         Martabak Ayam 2 Telur                30000\n",
       "3  Martabak Coklat Kacang Jumbo                40000"
      ]
     },
     "execution_count": 2,
     "metadata": {},
     "output_type": "execute_result"
    }
   ],
   "source": [
    "pd.DataFrame({\n",
    "    \"nama (kualitatif)\": [\"Martabak Keju Coklat\", \"Martabak Sapi 3 Telur\", \"Martabak Ayam 2 Telur\", \"Martabak Coklat Kacang Jumbo\"],\n",
    "    \"harga (kuantitatif)\": [25_000, 18_000, 30_000, 40_000]\n",
    "})"
   ]
  },
  {
   "cell_type": "markdown",
   "id": "c117603b",
   "metadata": {
    "slideshow": {
     "slide_type": "slide"
    }
   },
   "source": [
    "# Skala Pengukuran (*Level of Measurement*)\n",
    "\n",
    "Pada bidang statistik terdapat 4 skala pengukuran, yaitu nominal, ordinal, interval, dan rasio. Nominal dan ordinal termasuk dalam tipe kualitatif, sedangkan interval dan rasio termasuk dalam tipe kuantitatif.\n",
    "\n",
    "\n",
    "## Data Kualitatif\n",
    "\n",
    "\n",
    "1. Nominal adalah data yang dikelompokan atau dikategorikan berdasarkan nama, label, atau kualitas. Skala ini tidak dapat dikenakan operasi matematika. Contohnya seperti nama anak, merek kendaraan, dan nomor KTP. Urutan pada skala ini tidak memiliki makna.\n",
    "\n",
    "\n",
    "2. Ordinal adalah data yang dapat disusun berdasarkan urutan, peringkat, atau ranking. Urutan pada skala ini memiliki makna. Tidak dapat dikenakan operasi matematika. Contohnya tingkat kepuasan pelanggan, rating produk di toko online, atau peringkat di kelas."
   ]
  },
  {
   "cell_type": "markdown",
   "id": "a0138511",
   "metadata": {
    "slideshow": {
     "slide_type": "subslide"
    }
   },
   "source": [
    "## Data Kuantitatif\n",
    "\n",
    "1. Interval adalah skala pengukuran yang dapat dikelompokkan, dapat disusun, dapat dihitung menggunakan operasi pengurangan, pertambahan, dan pembagian tetapi perkalian tidak, dan tidak memiliki nilai nol yang absolut (*no inherent zero*). Contohnya suhu udara dan waktu.\n",
    "\n",
    "\n",
    "2. Rasio adalah skala pengukuran yang dapat dikelompokkan, dapat disusun, dapat dikenakan operasi matematika pengurangan, pertambahan, pembagian, dan perkalian, dan memiliki nilai nol yang absolut (*inherent zero*). Contohnya jumlah teman disosial media, harga produk, dan berat badan."
   ]
  },
  {
   "cell_type": "markdown",
   "id": "49be089a",
   "metadata": {
    "slideshow": {
     "slide_type": "slide"
    }
   },
   "source": [
    "# Ringkasan"
   ]
  },
  {
   "cell_type": "code",
   "execution_count": 3,
   "id": "f37f9f32",
   "metadata": {
    "ExecuteTime": {
     "end_time": "2022-02-24T07:26:13.236335Z",
     "start_time": "2022-02-24T07:26:13.220800Z"
    },
    "hide_input": true
   },
   "outputs": [
    {
     "data": {
      "text/html": [
       "<div>\n",
       "<style scoped>\n",
       "    .dataframe tbody tr th:only-of-type {\n",
       "        vertical-align: middle;\n",
       "    }\n",
       "\n",
       "    .dataframe tbody tr th {\n",
       "        vertical-align: top;\n",
       "    }\n",
       "\n",
       "    .dataframe thead th {\n",
       "        text-align: right;\n",
       "    }\n",
       "</style>\n",
       "<table border=\"1\" class=\"dataframe\">\n",
       "  <thead>\n",
       "    <tr style=\"text-align: right;\">\n",
       "      <th></th>\n",
       "      <th>pengelompokan data</th>\n",
       "      <th>pengurutan data</th>\n",
       "      <th>selisih data</th>\n",
       "      <th>pengkalian data</th>\n",
       "    </tr>\n",
       "  </thead>\n",
       "  <tbody>\n",
       "    <tr>\n",
       "      <th>nominal</th>\n",
       "      <td>Ya</td>\n",
       "      <td>Tidak</td>\n",
       "      <td>Tidak</td>\n",
       "      <td>Tidak</td>\n",
       "    </tr>\n",
       "    <tr>\n",
       "      <th>ordinal</th>\n",
       "      <td>Ya</td>\n",
       "      <td>Ya</td>\n",
       "      <td>Tidak</td>\n",
       "      <td>Tidak</td>\n",
       "    </tr>\n",
       "    <tr>\n",
       "      <th>interval</th>\n",
       "      <td>Ya</td>\n",
       "      <td>Ya</td>\n",
       "      <td>Ya</td>\n",
       "      <td>Tidak</td>\n",
       "    </tr>\n",
       "    <tr>\n",
       "      <th>rasio</th>\n",
       "      <td>Ya</td>\n",
       "      <td>Ya</td>\n",
       "      <td>Ya</td>\n",
       "      <td>Ya</td>\n",
       "    </tr>\n",
       "  </tbody>\n",
       "</table>\n",
       "</div>"
      ],
      "text/plain": [
       "         pengelompokan data pengurutan data selisih data pengkalian data\n",
       "nominal                  Ya           Tidak        Tidak           Tidak\n",
       "ordinal                  Ya              Ya        Tidak           Tidak\n",
       "interval                 Ya              Ya           Ya           Tidak\n",
       "rasio                    Ya              Ya           Ya              Ya"
      ]
     },
     "execution_count": 3,
     "metadata": {},
     "output_type": "execute_result"
    }
   ],
   "source": [
    "pd.DataFrame(\n",
    "    {\n",
    "        \"pengelompokan data\": [\"Ya\", \"Ya\", \"Ya\", \"Ya\",],\n",
    "        \"pengurutan data\": [\"Tidak\", \"Ya\", \"Ya\", \"Ya\",],\n",
    "        \"selisih data\": [\"Tidak\", \"Tidak\", \"Ya\", \"Ya\",],\n",
    "        \"pengkalian data\": [\"Tidak\", \"Tidak\", \"Tidak\", \"Ya\",]\n",
    "    },\n",
    "    index=[\"nominal\", \"ordinal\", \"interval\", \"rasio\"]\n",
    ")"
   ]
  }
 ],
 "metadata": {
  "celltoolbar": "Slideshow",
  "kernelspec": {
   "display_name": "Python 3 (ipykernel)",
   "language": "python",
   "name": "python3"
  },
  "language_info": {
   "codemirror_mode": {
    "name": "ipython",
    "version": 3
   },
   "file_extension": ".py",
   "mimetype": "text/x-python",
   "name": "python",
   "nbconvert_exporter": "python",
   "pygments_lexer": "ipython3",
   "version": "3.8.12"
  },
  "nbTranslate": {
   "displayLangs": [
    "*"
   ],
   "hotkey": "alt-t",
   "langInMainMenu": true,
   "sourceLang": "en",
   "targetLang": "fr",
   "useGoogleTranslate": true
  },
  "toc": {
   "base_numbering": 1,
   "nav_menu": {},
   "number_sections": true,
   "sideBar": true,
   "skip_h1_title": false,
   "title_cell": "Table of Contents",
   "title_sidebar": "Contents",
   "toc_cell": false,
   "toc_position": {},
   "toc_section_display": true,
   "toc_window_display": false
  }
 },
 "nbformat": 4,
 "nbformat_minor": 5
}
