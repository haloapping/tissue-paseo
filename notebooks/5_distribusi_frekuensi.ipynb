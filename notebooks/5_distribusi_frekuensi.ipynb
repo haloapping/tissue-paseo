{
 "cells": [
  {
   "cell_type": "markdown",
   "id": "6218d198",
   "metadata": {
    "slideshow": {
     "slide_type": "slide"
    }
   },
   "source": [
    "# Distribusi Frekuensi\n",
    "\n",
    "- Bentuk pengelolaan data dimana data dikelompokan berdasarkan interval tertentu, sehingga menjadi beberapa kelas (*classes*)\n",
    "- Jumlah kemunculan data untuk setiap kelas dihitung. Ini dikenal dengan frekuensi."
   ]
  },
  {
   "cell_type": "markdown",
   "id": "e16a6243",
   "metadata": {
    "hide_input": false,
    "slideshow": {
     "slide_type": "slide"
    }
   },
   "source": [
    "# Contoh"
   ]
  },
  {
   "cell_type": "code",
   "execution_count": 1,
   "id": "07161548",
   "metadata": {
    "ExecuteTime": {
     "end_time": "2022-02-25T05:49:24.588183Z",
     "start_time": "2022-02-25T05:49:22.154915Z"
    },
    "hide_input": true
   },
   "outputs": [
    {
     "data": {
      "text/html": [
       "<div>\n",
       "<style scoped>\n",
       "    .dataframe tbody tr th:only-of-type {\n",
       "        vertical-align: middle;\n",
       "    }\n",
       "\n",
       "    .dataframe tbody tr th {\n",
       "        vertical-align: top;\n",
       "    }\n",
       "\n",
       "    .dataframe thead th {\n",
       "        text-align: right;\n",
       "    }\n",
       "</style>\n",
       "<table border=\"1\" class=\"dataframe\">\n",
       "  <thead>\n",
       "    <tr style=\"text-align: right;\">\n",
       "      <th></th>\n",
       "      <th>class</th>\n",
       "      <th>frequency</th>\n",
       "    </tr>\n",
       "  </thead>\n",
       "  <tbody>\n",
       "    <tr>\n",
       "      <th>0</th>\n",
       "      <td>1-3</td>\n",
       "      <td>5</td>\n",
       "    </tr>\n",
       "    <tr>\n",
       "      <th>1</th>\n",
       "      <td>4-6</td>\n",
       "      <td>10</td>\n",
       "    </tr>\n",
       "    <tr>\n",
       "      <th>2</th>\n",
       "      <td>7-9</td>\n",
       "      <td>8</td>\n",
       "    </tr>\n",
       "    <tr>\n",
       "      <th>3</th>\n",
       "      <td>10-12</td>\n",
       "      <td>5</td>\n",
       "    </tr>\n",
       "    <tr>\n",
       "      <th>4</th>\n",
       "      <td>13-15</td>\n",
       "      <td>4</td>\n",
       "    </tr>\n",
       "    <tr>\n",
       "      <th>5</th>\n",
       "      <td>16-18</td>\n",
       "      <td>6</td>\n",
       "    </tr>\n",
       "  </tbody>\n",
       "</table>\n",
       "</div>"
      ],
      "text/plain": [
       "   class  frequency\n",
       "0    1-3          5\n",
       "1    4-6         10\n",
       "2    7-9          8\n",
       "3  10-12          5\n",
       "4  13-15          4\n",
       "5  16-18          6"
      ]
     },
     "execution_count": 1,
     "metadata": {},
     "output_type": "execute_result"
    }
   ],
   "source": [
    "import pandas as pd\n",
    "\n",
    "data = pd.DataFrame(\n",
    "    data={\n",
    "        \"class\": [\"1-3\", \"4-6\", \"7-9\", \"10-12\", \"13-15\", \"16-18\"],\n",
    "        \"frequency\": [5, 10, 8, 5, 4, 6]\n",
    "    }\n",
    ")\n",
    "\n",
    "data"
   ]
  },
  {
   "cell_type": "markdown",
   "id": "8b01e1b9",
   "metadata": {},
   "source": [
    "- Terdapat 6 kelas (*class*).\n",
    "- Anter kelas tidak ada *overlap* (tumpang tindih).\n",
    "- Setiap kelas memiliki:\n",
    "    - lower class limit: 1, 4, 7, 10, 13, 16\n",
    "    - upper class limit: 3, 6, 9, 12, 15, 18\n",
    "    - class width: 3"
   ]
  },
  {
   "cell_type": "markdown",
   "id": "911f1e38",
   "metadata": {
    "slideshow": {
     "slide_type": "subslide"
    }
   },
   "source": [
    "## Membuat Distribusi Frekuensi\n",
    "\n",
    "1. Siapkan sekumpulan data.\n",
    "2. Tentukan jumlah kelas, dilakukan dengan cara mengambil nilai *unique* dari kumpulan data.\n",
    "3. Tentukan nilai terkecil (*min*) dan terbesar (*max*).\n",
    "4. Hitung *range* dengan mengurangi nilai maksimum (*max*) dengan nilai minimum (*min*) $max\\ -\\ min$.\n",
    "5. Hitung *classwidth* dengan cara membagi nilai *range* dengan jumlah kelas $\\frac {range}{n_{class}}$"
   ]
  },
  {
   "cell_type": "code",
   "execution_count": 2,
   "id": "abf42c12",
   "metadata": {
    "ExecuteTime": {
     "end_time": "2022-02-25T05:49:24.658367Z",
     "start_time": "2022-02-25T05:49:24.604137Z"
    },
    "hide_input": true
   },
   "outputs": [
    {
     "name": "stdout",
     "output_type": "stream",
     "text": [
      "Daftar harga kaos:\n",
      "[128, 100, 180, 150, 200, 90, 340, 105, 85, 270, 200, 65, 230, 150, 150, 120, 130, 80, 230, 200, 110, 126, 170, 132, 140, 112, 90, 340, 170, 190]\n",
      "\n",
      "Harga kaos termurah:65\n",
      "\n",
      "Harga kaos termahal:340\n",
      "\n"
     ]
    }
   ],
   "source": [
    "daftar_harga_kaos = [128, 100, 180, 150, 200, 90, 340, 105, 85, 270,\n",
    "                     200, 65, 230, 150, 150, 120, 130, 80, 230, 200,\n",
    "                     110, 126, 170, 132, 140, 112, 90, 340, 170, 190]\n",
    "\n",
    "print(f\"Daftar harga kaos:\\n{daftar_harga_kaos}\\n\")\n",
    "print(f\"Harga kaos termurah:{min(daftar_harga_kaos)}\\n\")\n",
    "print(f\"Harga kaos termahal:{max(daftar_harga_kaos)}\\n\")"
   ]
  },
  {
   "cell_type": "markdown",
   "id": "708b8bff",
   "metadata": {},
   "source": [
    "$min\\ =\\ 65$\n",
    "\n",
    "$max\\ =\\ 340$\n",
    "\n",
    "$range\\ =\\ max\\ -\\ min\\ =\\ 340\\ -\\ 65\\ =\\ 275$\n",
    "\n",
    "$classwidth\\ =\\ \\frac{range}{n_{class}} =\\ \\frac{275}{7} \\approx\\ 40$"
   ]
  },
  {
   "cell_type": "code",
   "execution_count": 3,
   "id": "7ace386b",
   "metadata": {
    "ExecuteTime": {
     "end_time": "2022-02-25T05:49:24.729271Z",
     "start_time": "2022-02-25T05:49:24.669785Z"
    },
    "hide_input": true
   },
   "outputs": [
    {
     "data": {
      "text/html": [
       "<div>\n",
       "<style scoped>\n",
       "    .dataframe tbody tr th:only-of-type {\n",
       "        vertical-align: middle;\n",
       "    }\n",
       "\n",
       "    .dataframe tbody tr th {\n",
       "        vertical-align: top;\n",
       "    }\n",
       "\n",
       "    .dataframe thead th {\n",
       "        text-align: right;\n",
       "    }\n",
       "</style>\n",
       "<table border=\"1\" class=\"dataframe\">\n",
       "  <thead>\n",
       "    <tr style=\"text-align: right;\">\n",
       "      <th></th>\n",
       "      <th>class</th>\n",
       "      <th>frequency</th>\n",
       "    </tr>\n",
       "  </thead>\n",
       "  <tbody>\n",
       "    <tr>\n",
       "      <th>0</th>\n",
       "      <td>65-104</td>\n",
       "      <td>6</td>\n",
       "    </tr>\n",
       "    <tr>\n",
       "      <th>1</th>\n",
       "      <td>105-144</td>\n",
       "      <td>9</td>\n",
       "    </tr>\n",
       "    <tr>\n",
       "      <th>2</th>\n",
       "      <td>145-184</td>\n",
       "      <td>6</td>\n",
       "    </tr>\n",
       "    <tr>\n",
       "      <th>3</th>\n",
       "      <td>185-224</td>\n",
       "      <td>4</td>\n",
       "    </tr>\n",
       "    <tr>\n",
       "      <th>4</th>\n",
       "      <td>225-264</td>\n",
       "      <td>2</td>\n",
       "    </tr>\n",
       "    <tr>\n",
       "      <th>5</th>\n",
       "      <td>265-304</td>\n",
       "      <td>1</td>\n",
       "    </tr>\n",
       "    <tr>\n",
       "      <th>6</th>\n",
       "      <td>305-344</td>\n",
       "      <td>2</td>\n",
       "    </tr>\n",
       "  </tbody>\n",
       "</table>\n",
       "</div>"
      ],
      "text/plain": [
       "     class  frequency\n",
       "0   65-104          6\n",
       "1  105-144          9\n",
       "2  145-184          6\n",
       "3  185-224          4\n",
       "4  225-264          2\n",
       "5  265-304          1\n",
       "6  305-344          2"
      ]
     },
     "execution_count": 3,
     "metadata": {},
     "output_type": "execute_result"
    }
   ],
   "source": [
    "daftar_harga_kaos_df = pd.DataFrame(\n",
    "    data={\n",
    "        \"class\": [\"65-104\", \"105-144\", \"145-184\", \"185-224\", \"225-264\", \"265-304\", \"305-344\"],\n",
    "        \"frequency\": [6, 9, 6, 4, 2, 1, 2]\n",
    "    }\n",
    ")\n",
    "\n",
    "daftar_harga_kaos_df"
   ]
  },
  {
   "cell_type": "markdown",
   "id": "0279e8f4",
   "metadata": {
    "slideshow": {
     "slide_type": "slide"
    }
   },
   "source": [
    "# Midpoint, Relative Frequency, dan  Cummulative Frequency"
   ]
  },
  {
   "cell_type": "markdown",
   "id": "a1f0af05",
   "metadata": {
    "ExecuteTime": {
     "end_time": "2022-02-25T03:02:48.345492Z",
     "start_time": "2022-02-25T03:02:48.316085Z"
    }
   },
   "source": [
    "$mid\\text{_}point\\ =\\ \\frac{lower\\text{_}limit\\ +\\ uppper\\text{_}limit}{2}$\n",
    "\n",
    "$relative\\text{_}frequency\\ =\\ \\frac{class\\text{_}frequency}{sample\\text{_}size}\\ =\\ \\frac{f}{n}$"
   ]
  },
  {
   "cell_type": "code",
   "execution_count": 4,
   "id": "6607974b",
   "metadata": {
    "ExecuteTime": {
     "end_time": "2022-02-25T05:49:24.889855Z",
     "start_time": "2022-02-25T05:49:24.743565Z"
    },
    "hide_input": true,
    "scrolled": true
   },
   "outputs": [
    {
     "data": {
      "text/html": [
       "<div>\n",
       "<style scoped>\n",
       "    .dataframe tbody tr th:only-of-type {\n",
       "        vertical-align: middle;\n",
       "    }\n",
       "\n",
       "    .dataframe tbody tr th {\n",
       "        vertical-align: top;\n",
       "    }\n",
       "\n",
       "    .dataframe thead th {\n",
       "        text-align: right;\n",
       "    }\n",
       "</style>\n",
       "<table border=\"1\" class=\"dataframe\">\n",
       "  <thead>\n",
       "    <tr style=\"text-align: right;\">\n",
       "      <th></th>\n",
       "      <th>class</th>\n",
       "      <th>frequency</th>\n",
       "      <th>lower</th>\n",
       "      <th>upper</th>\n",
       "      <th>midpoint</th>\n",
       "      <th>relative_freq</th>\n",
       "      <th>cummulative_freq</th>\n",
       "    </tr>\n",
       "  </thead>\n",
       "  <tbody>\n",
       "    <tr>\n",
       "      <th>0</th>\n",
       "      <td>65-104</td>\n",
       "      <td>6</td>\n",
       "      <td>65</td>\n",
       "      <td>104</td>\n",
       "      <td>84.5</td>\n",
       "      <td>0.200000</td>\n",
       "      <td>6</td>\n",
       "    </tr>\n",
       "    <tr>\n",
       "      <th>1</th>\n",
       "      <td>105-144</td>\n",
       "      <td>9</td>\n",
       "      <td>105</td>\n",
       "      <td>144</td>\n",
       "      <td>124.5</td>\n",
       "      <td>0.300000</td>\n",
       "      <td>15</td>\n",
       "    </tr>\n",
       "    <tr>\n",
       "      <th>2</th>\n",
       "      <td>145-184</td>\n",
       "      <td>6</td>\n",
       "      <td>145</td>\n",
       "      <td>184</td>\n",
       "      <td>164.5</td>\n",
       "      <td>0.200000</td>\n",
       "      <td>21</td>\n",
       "    </tr>\n",
       "    <tr>\n",
       "      <th>3</th>\n",
       "      <td>185-224</td>\n",
       "      <td>4</td>\n",
       "      <td>185</td>\n",
       "      <td>224</td>\n",
       "      <td>204.5</td>\n",
       "      <td>0.133333</td>\n",
       "      <td>25</td>\n",
       "    </tr>\n",
       "    <tr>\n",
       "      <th>4</th>\n",
       "      <td>225-264</td>\n",
       "      <td>2</td>\n",
       "      <td>225</td>\n",
       "      <td>264</td>\n",
       "      <td>244.5</td>\n",
       "      <td>0.066667</td>\n",
       "      <td>27</td>\n",
       "    </tr>\n",
       "    <tr>\n",
       "      <th>5</th>\n",
       "      <td>265-304</td>\n",
       "      <td>1</td>\n",
       "      <td>265</td>\n",
       "      <td>304</td>\n",
       "      <td>284.5</td>\n",
       "      <td>0.033333</td>\n",
       "      <td>28</td>\n",
       "    </tr>\n",
       "    <tr>\n",
       "      <th>6</th>\n",
       "      <td>305-344</td>\n",
       "      <td>2</td>\n",
       "      <td>305</td>\n",
       "      <td>344</td>\n",
       "      <td>324.5</td>\n",
       "      <td>0.066667</td>\n",
       "      <td>30</td>\n",
       "    </tr>\n",
       "  </tbody>\n",
       "</table>\n",
       "</div>"
      ],
      "text/plain": [
       "     class  frequency  lower  upper  midpoint  relative_freq  cummulative_freq\n",
       "0   65-104          6     65    104      84.5       0.200000                 6\n",
       "1  105-144          9    105    144     124.5       0.300000                15\n",
       "2  145-184          6    145    184     164.5       0.200000                21\n",
       "3  185-224          4    185    224     204.5       0.133333                25\n",
       "4  225-264          2    225    264     244.5       0.066667                27\n",
       "5  265-304          1    265    304     284.5       0.033333                28\n",
       "6  305-344          2    305    344     324.5       0.066667                30"
      ]
     },
     "execution_count": 4,
     "metadata": {},
     "output_type": "execute_result"
    }
   ],
   "source": [
    "lower_upper_df = pd.DataFrame(list(daftar_harga_kaos_df[\"class\"].str.split(\"-\")), columns=[\"lower\", \"upper\"])\n",
    "daftar_harga_kaos_df = daftar_harga_kaos_df.join(lower_upper_df)\n",
    "daftar_harga_kaos_df = daftar_harga_kaos_df.astype({\"lower\":int, \"upper\":int})\n",
    "daftar_harga_kaos_df[\"midpoint\"] = (daftar_harga_kaos_df[\"lower\"] + daftar_harga_kaos_df[\"upper\"]) / 2\n",
    "daftar_harga_kaos_df[\"relative_freq\"] =  daftar_harga_kaos_df[\"frequency\"] / 30\n",
    "daftar_harga_kaos_df[\"cummulative_freq\"] = daftar_harga_kaos_df[\"frequency\"].cumsum()\n",
    "daftar_harga_kaos_df"
   ]
  },
  {
   "cell_type": "markdown",
   "id": "6d818321",
   "metadata": {
    "slideshow": {
     "slide_type": "slide"
    }
   },
   "source": [
    "# Visualisasi Data"
   ]
  },
  {
   "cell_type": "markdown",
   "id": "5d1fc03d",
   "metadata": {},
   "source": [
    "## Histogram Plot"
   ]
  },
  {
   "cell_type": "code",
   "execution_count": 5,
   "id": "c0987537",
   "metadata": {
    "ExecuteTime": {
     "end_time": "2022-02-25T05:49:31.329845Z",
     "start_time": "2022-02-25T05:49:24.905077Z"
    },
    "hide_input": true
   },
   "outputs": [],
   "source": [
    "import matplotlib.pyplot as plt\n",
    "import seaborn as sns"
   ]
  },
  {
   "cell_type": "code",
   "execution_count": 6,
   "id": "0fe9f838",
   "metadata": {
    "ExecuteTime": {
     "end_time": "2022-02-25T05:49:32.440649Z",
     "start_time": "2022-02-25T05:49:31.337459Z"
    },
    "hide_input": true,
    "scrolled": true
   },
   "outputs": [
    {
     "data": {
      "image/png": "[encoded data removed]",
      "text/plain": [
       "<Figure size 432x288 with 1 Axes>"
      ]
     },
     "metadata": {},
     "output_type": "display_data"
    }
   ],
   "source": [
    "sns.set_style(\"whitegrid\")\n",
    "plt.title(\"Distribusi Harga Kaos\")\n",
    "plt.xlabel(\"Harga\")\n",
    "sns.histplot(daftar_harga_kaos);"
   ]
  },
  {
   "cell_type": "markdown",
   "id": "fe033956",
   "metadata": {
    "slideshow": {
     "slide_type": "subslide"
    }
   },
   "source": [
    "## Distribution Plot"
   ]
  },
  {
   "cell_type": "code",
   "execution_count": 7,
   "id": "d7e0aae0",
   "metadata": {
    "ExecuteTime": {
     "end_time": "2022-02-25T05:49:33.247468Z",
     "start_time": "2022-02-25T05:49:32.451215Z"
    },
    "hide_input": true,
    "scrolled": true
   },
   "outputs": [
    {
     "data": {
      "image/png": "[encoded data removed]",
      "text/plain": [
       "<Figure size 432x288 with 1 Axes>"
      ]
     },
     "metadata": {},
     "output_type": "display_data"
    }
   ],
   "source": [
    "sns.set_style(\"whitegrid\")\n",
    "plt.title(\"Distribusi Harga Kaos\")\n",
    "plt.xlabel(\"Harga\")\n",
    "sns.kdeplot(daftar_harga_kaos);"
   ]
  }
 ],
 "metadata": {
  "celltoolbar": "Slideshow",
  "kernelspec": {
   "display_name": "Python 3 (ipykernel)",
   "language": "python",
   "name": "python3"
  },
  "language_info": {
   "codemirror_mode": {
    "name": "ipython",
    "version": 3
   },
   "file_extension": ".py",
   "mimetype": "text/x-python",
   "name": "python",
   "nbconvert_exporter": "python",
   "pygments_lexer": "ipython3",
   "version": "3.8.12"
  },
  "nbTranslate": {
   "displayLangs": [
    "*"
   ],
   "hotkey": "alt-t",
   "langInMainMenu": true,
   "sourceLang": "en",
   "targetLang": "fr",
   "useGoogleTranslate": true
  },
  "toc": {
   "base_numbering": 1,
   "nav_menu": {},
   "number_sections": true,
   "sideBar": true,
   "skip_h1_title": false,
   "title_cell": "Table of Contents",
   "title_sidebar": "Contents",
   "toc_cell": false,
   "toc_position": {},
   "toc_section_display": true,
   "toc_window_display": false
  }
 },
 "nbformat": 4,
 "nbformat_minor": 5
}
