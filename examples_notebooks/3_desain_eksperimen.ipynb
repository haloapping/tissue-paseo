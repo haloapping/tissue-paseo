{
 "cells": [
  {
   "cell_type": "markdown",
   "id": "44b946bc",
   "metadata": {
    "slideshow": {
     "slide_type": "slide"
    }
   },
   "source": [
    "# Studi Statistik\n",
    "\n",
    "Studi statistik adalah metode yang digunakan dalam melakukan pengamatan terhadap suatu subjek. Terdapat dua jenis studi statistik, yaitu Studi Observasi (*Observational Study*) dan studi Eksperimen (*Experimental Study*)."
   ]
  },
  {
   "cell_type": "markdown",
   "id": "d3cb2747",
   "metadata": {
    "slideshow": {
     "slide_type": "subslide"
    }
   },
   "source": [
    "## Studi Observasi (*Observational Study*)\n",
    "\n",
    "Seorang peneliti melakukan pengamatan terhadap suatu subjek (mengukur karakteristik) tanpa melakukan *treatment* atau perlakuan khusus apapub terhadap subjek yang dapat mempengaruhi hasil pengamatan.\n",
    "\n",
    "**Contoh:**<br>\n",
    "Rehal menyebarkan Google Form berisi pertanyaan-pertanyaan terkait penelitian yang dia lakukan kepada orang-orang yang relevan dengan kasus yang diteliti."
   ]
  },
  {
   "cell_type": "markdown",
   "id": "0c1b2161",
   "metadata": {
    "ExecuteTime": {
     "end_time": "2022-02-24T09:44:39.837437Z",
     "start_time": "2022-02-24T09:44:39.816603Z"
    },
    "slideshow": {
     "slide_type": "subslide"
    }
   },
   "source": [
    "## Studi Eksperimen (*Experimental Study*)\n",
    "\n",
    "Peneliti memberikan *treatment* atau perlakuan khusus kepada subjek sebelum pengamatan dilakukan. Hal ini dilakukan untuk melihat efek dari *treatment* terhadap subjek.\n",
    "\n",
    "**Contoh:**<br>\n",
    "Dilakukan sebuah penelitian dengan melibatkan 20 orang berstatus jomblo dengan komposisi 10 pria dan 10 wanita. Sepuluh orang dengan masing-masing 5 pria dan 5 wanita diberikan permen karet peningkat aura ketampanan dan kecantikan, sedangkan 10 orang lainnya tidak diberikan. Setelah diamati kesepuluh orang yang diberikan permen karet merasakan aura pada dirinya meningkat. Mereka merasa lebih tampan dan cantik. Sedangkan sepuluh orang sisanya yang tidak diberi permen karet merasa biasa-biasa saja."
   ]
  },
  {
   "cell_type": "markdown",
   "id": "9a0ad6c8",
   "metadata": {
    "slideshow": {
     "slide_type": "slide"
    }
   },
   "source": [
    "# Desain Eksperimen (*Experimental Design*)\n",
    "\n",
    "Terdapat tiga hal yang perlu diperhatikan pada saat melakukan eksperimen, yaitu:\n",
    "\n",
    "1. **Kendali (*Control*)**<br>\n",
    "<img src=\"../images/experimental-design-control.png\" width=\"700\">\n",
    "\n",
    "    - Kelompok eksperimen dipisahkan menjadi *Treatment Group* dan *Control Group*.\n",
    "    - *Treatment Group* adalah kelompok yang diberikan treatment sebelum dilakukan pengamatan.\n",
    "    - *Control Group* adalah kelompok yang tidak menerima *treatment* atau kadang diberi *treatment* palsu (*placebo*).\n",
    "    - Kontrol dapat menerapkan *Blinding* atau *Double Blining*.\n",
    "    - *Blinding* adalah kontrol pada subjek eksperimen tidak mengetahui apakah dirinya menerima *treatment* atau *placebo*.\n",
    "    - *Double Blinding* adalah kontrol pada subjek eksperimen dan peneliti tidak mengetahui apakah dirinya menerima *treatment* atau *placebo*. Dibutuhkan pihak ketiga untuk mendistribusikan *treatment* atau *placebo* kepada subjek penelitian."
   ]
  },
  {
   "cell_type": "markdown",
   "id": "55a5c10b",
   "metadata": {
    "slideshow": {
     "slide_type": "subslide"
    }
   },
   "source": [
    "2. **Pengacakan (*Randomization*)**<br>\n",
    "Menentukan subjek eksperimen apakah masuk ke *Treatment Group* atau *Control Group* yang dilakukan secara acak<img src=\"../images/experimental-design-randomization.png\" width=\"1000\">Keseluruhan subjek dikelompokkan berdasarkan kesamaan karakteristik sehingga membentuk beberapa kelompok. Dari setiap kelompok tersebut kemudian dipilih secara acak untuk dimasukkan dalam *Treatment* dan *Control Group*.\n",
    "<img src=\"../images/experimental-design-randomization-block.png\" width=\"1000\">"
   ]
  },
  {
   "cell_type": "markdown",
   "id": "15fb8ed8",
   "metadata": {
    "ExecuteTime": {
     "end_time": "2022-02-24T10:37:51.135767Z",
     "start_time": "2022-02-24T10:37:51.122093Z"
    },
    "slideshow": {
     "slide_type": "subslide"
    }
   },
   "source": [
    "3. **Replikasi (*Replication*)**\n",
    "    - Replikasi adalah proses mengulang proses eksperimen dengan kondisi serupa atau mirip. Hal ini dilakukan untuk meningkatkan validitas dari eksperimen.\n",
    "    - Proses replikasi eksperimen dilakukan dengan subjek yang berbeda dan ukuran sampel yang ditambahkan."
   ]
  },
  {
   "cell_type": "markdown",
   "id": "010f8e06",
   "metadata": {
    "slideshow": {
     "slide_type": "slide"
    }
   },
   "source": [
    "# Tantangan\n",
    "\n",
    "- *Confounding/Lurking Variable* adalah faktor-faktor eksternal (yang tidak diperhitungkan sebelumnya) yang berpotensi memberikan pengaruh terhadap hasil eksperimen.\n",
    "- *Placebo Effect*, hasil yang didapatkan positif pada subjek yang menerima placebo.\n",
    "- *Hawthorne Effect* adalah efek dimana subjek mengalami perubahan perilaku ketika subjek mengetahui bahwa dirinya terlibat dalam eksperimen."
   ]
  }
 ],
 "metadata": {
  "celltoolbar": "Slideshow",
  "kernelspec": {
   "display_name": "Python 3 (ipykernel)",
   "language": "python",
   "name": "python3"
  },
  "language_info": {
   "codemirror_mode": {
    "name": "ipython",
    "version": 3
   },
   "file_extension": ".py",
   "mimetype": "text/x-python",
   "name": "python",
   "nbconvert_exporter": "python",
   "pygments_lexer": "ipython3",
   "version": "3.8.12"
  },
  "nbTranslate": {
   "displayLangs": [
    "*"
   ],
   "hotkey": "alt-t",
   "langInMainMenu": true,
   "sourceLang": "en",
   "targetLang": "fr",
   "useGoogleTranslate": true
  },
  "toc": {
   "base_numbering": 1,
   "nav_menu": {},
   "number_sections": true,
   "sideBar": true,
   "skip_h1_title": false,
   "title_cell": "Table of Contents",
   "title_sidebar": "Contents",
   "toc_cell": false,
   "toc_position": {},
   "toc_section_display": true,
   "toc_window_display": false
  }
 },
 "nbformat": 4,
 "nbformat_minor": 5
}
