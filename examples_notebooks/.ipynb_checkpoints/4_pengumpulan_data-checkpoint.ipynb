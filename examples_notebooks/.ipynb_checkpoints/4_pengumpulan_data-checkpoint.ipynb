{
 "cells": [
  {
   "cell_type": "markdown",
   "id": "2c97a377",
   "metadata": {
    "slideshow": {
     "slide_type": "slide"
    }
   },
   "source": [
    "# Pengumpulan Data (*Data Collection*)\n",
    "\n",
    "## Cencus\n",
    "- Pengumpulan data dilakukan pada tingkat populasi. - - Informasi yang didapatkan bersifat lengkap.\n",
    "- Populasi yang besar membuat pilihan ini membutuhkan biaya mahal dan relatif sulit untuk dilakukan.\n",
    "\n",
    "## Sampling\n",
    "- Pengumpulan data dilakukan pada sebagian populasi.\n",
    "- Informasi yang didapatkan kurang lengkap, jika dibandingkan dengan menggunakan Cencus.\n",
    "- Lebih sering digunakan, karena biaya yang dibutuhkan lebih murah dan relatif lebih mudah, jika dibandingkan dengan Cencus.\n",
    "- Data sampling harus dipastikan proporsional dengan populasi untuk memastikan data sampel representatif dengan populasinya."
   ]
  },
  {
   "cell_type": "markdown",
   "id": "9c279e7b",
   "metadata": {
    "slideshow": {
     "slide_type": "slide"
    }
   },
   "source": [
    "# Sampling Error\n",
    "\n",
    "- Pengambilan data dengan *sampling* akan menghasilkan error.\n",
    "- Error ini terjadi karena pengambilan data dilakukan pada sub bagian dari populasi. Pengambilan sub bagian dari popoulasi akan menghasilkan selisih atau perbedaan.\n",
    "- Teknik sampling sebaik apapun, pasti akan menghasilkan *sampling error*."
   ]
  },
  {
   "cell_type": "markdown",
   "id": "39cf68aa",
   "metadata": {
    "slideshow": {
     "slide_type": "slide"
    }
   },
   "source": [
    "# Sampling With or Without Replacement\n",
    "\n",
    "- Proses sampling dapat dibedakan berdasarkan kemungkinan berapa kali sebuah data dari populasi dapat terpilih menjadi sampel.\n",
    "- *Sampling with Replacement* adalah memungkinkan satu anggota populasi untuk terpilih lebih dari satu kali sebagai anggota sampel.\n",
    "- *Sampling without Replacement* adalah menjamin satu anggota populasi hanya terpilih satu kali sebagai anggota sampel."
   ]
  },
  {
   "cell_type": "markdown",
   "id": "71f6ea6c",
   "metadata": {
    "slideshow": {
     "slide_type": "slide"
    }
   },
   "source": [
    "# Teknik Sampling\n",
    "\n",
    "- *Simple Random Sampling*\n",
    "- *Stratified Sampling*\n",
    "- *Cluster Sampling*\n",
    "- *Systematic Sampling*\n",
    "- *Convenience Sampling*"
   ]
  },
  {
   "cell_type": "markdown",
   "id": "b7150732",
   "metadata": {
    "slideshow": {
     "slide_type": "subslide"
    }
   },
   "source": [
    "## Simple Random Sampling\n",
    "\n",
    "- Dilakukan secara acak.\n",
    "- Semua anggota populasi memiliki kemungkinan yang sama untuk terpilih menjadi sampel.\n",
    "- Dipilih 10 orang dari 40 orang berstatus jomblo. Proses pemilihan 10 orang tersebut dilakukan dengan cara memberikan setiap orang nomor dari 1 sampai 40, setelah itu digunakan random generator sebanyak 10 kali."
   ]
  },
  {
   "cell_type": "markdown",
   "id": "03cf31c0",
   "metadata": {
    "slideshow": {
     "slide_type": "subslide"
    }
   },
   "source": [
    "## Stratified Sampling\n",
    "\n",
    "- Sebelum dilakukan pengambilan sampel secara acak, populasi dikelompokan berdasarkan kesamaan karakteristik tertentu (e.g., status, tinggi badan, berat badan, jenis kelamin, dan lain-lain).\n",
    "- Hasil pengelompokan biasa disebut strata.\n",
    "- Sampling dari setiap strata harus proporsional dan representatif dalam populasi.<br><img src=\"../images/data-collecting-stratified.png\" width=\"600\">"
   ]
  },
  {
   "cell_type": "markdown",
   "id": "8d1af3ad",
   "metadata": {
    "ExecuteTime": {
     "end_time": "2022-02-25T01:26:21.151494Z",
     "start_time": "2022-02-25T01:26:21.130468Z"
    },
    "slideshow": {
     "slide_type": "subslide"
    }
   },
   "source": [
    "## Cluster Sampling\n",
    "\n",
    "- Pengumpulan data dilakukan secara acak yang dilakukan dengan membagi anggota populasi kedalam beberapa kelompok berdasarkan **kelompok yang sudah terbentuk** (e.g., area geografis, kecamatan, dan kelurahan, dan lain-lain).\n",
    "- Kelompok yang telah terbentuk biasa disebut *cluster*.<br><img src=\"../images/data-collecting-cluster.png\" width=\"600\">"
   ]
  },
  {
   "cell_type": "markdown",
   "id": "08b9101e",
   "metadata": {
    "slideshow": {
     "slide_type": "subslide"
    }
   },
   "source": [
    "## Systematic Sampling\n",
    "\n",
    "- Pengumpulan data berdasarkan pada interval tertentu.\n",
    "- Cukup mudah untuk dilakukan.\n",
    "- Tidak dapat diterapkan apabila ditemui adanya pola yang sifatnya konsisten dan sistematis pada data.\n",
    "- Contoh, survey kepuasan pelanggan Ayam Geprek Tidak Bebas. Survey dilakukan kepada pelanggan yang nomor antrian kedatangannya merupakan kelipatan 5."
   ]
  },
  {
   "cell_type": "markdown",
   "id": "662f9125",
   "metadata": {
    "slideshow": {
     "slide_type": "subslide"
    }
   },
   "source": [
    "## Convenience Sampling\n",
    "\n",
    "- Teknik pengumpulan yang dilakukan secara asal dan sembrono.\n",
    "- Berorientasi pada kemudahan pengumpulan data saja.\n",
    "- Teknik ini sangat rentan dengan bias dan error yang tinggi."
   ]
  }
 ],
 "metadata": {
  "celltoolbar": "Slideshow",
  "kernelspec": {
   "display_name": "Python 3 (ipykernel)",
   "language": "python",
   "name": "python3"
  },
  "language_info": {
   "codemirror_mode": {
    "name": "ipython",
    "version": 3
   },
   "file_extension": ".py",
   "mimetype": "text/x-python",
   "name": "python",
   "nbconvert_exporter": "python",
   "pygments_lexer": "ipython3",
   "version": "3.8.12"
  },
  "nbTranslate": {
   "displayLangs": [
    "*"
   ],
   "hotkey": "alt-t",
   "langInMainMenu": true,
   "sourceLang": "en",
   "targetLang": "fr",
   "useGoogleTranslate": true
  },
  "toc": {
   "base_numbering": 1,
   "nav_menu": {},
   "number_sections": true,
   "sideBar": true,
   "skip_h1_title": false,
   "title_cell": "Table of Contents",
   "title_sidebar": "Contents",
   "toc_cell": false,
   "toc_position": {},
   "toc_section_display": true,
   "toc_window_display": false
  }
 },
 "nbformat": 4,
 "nbformat_minor": 5
}
