{
 "cells": [
  {
   "cell_type": "markdown",
   "id": "ed516985",
   "metadata": {
    "slideshow": {
     "slide_type": "slide"
    }
   },
   "source": [
    "# Import Library"
   ]
  },
  {
   "cell_type": "code",
   "execution_count": 14,
   "id": "bc4716a2",
   "metadata": {
    "ExecuteTime": {
     "end_time": "2022-02-27T02:52:18.571342Z",
     "start_time": "2022-02-27T02:52:18.548972Z"
    }
   },
   "outputs": [],
   "source": [
    "import pandas as pd"
   ]
  },
  {
   "cell_type": "markdown",
   "id": "bf35a92b",
   "metadata": {
    "slideshow": {
     "slide_type": "slide"
    }
   },
   "source": [
    "# Import Dataset"
   ]
  },
  {
   "cell_type": "code",
   "execution_count": 15,
   "id": "46e401a5",
   "metadata": {
    "ExecuteTime": {
     "end_time": "2022-02-27T02:52:18.708086Z",
     "start_time": "2022-02-27T02:52:18.658201Z"
    }
   },
   "outputs": [
    {
     "data": {
      "text/html": [
       "<div>\n",
       "<style scoped>\n",
       "    .dataframe tbody tr th:only-of-type {\n",
       "        vertical-align: middle;\n",
       "    }\n",
       "\n",
       "    .dataframe tbody tr th {\n",
       "        vertical-align: top;\n",
       "    }\n",
       "\n",
       "    .dataframe thead th {\n",
       "        text-align: right;\n",
       "    }\n",
       "</style>\n",
       "<table border=\"1\" class=\"dataframe\">\n",
       "  <thead>\n",
       "    <tr style=\"text-align: right;\">\n",
       "      <th></th>\n",
       "      <th>number_courses</th>\n",
       "      <th>time_study</th>\n",
       "      <th>Marks</th>\n",
       "    </tr>\n",
       "  </thead>\n",
       "  <tbody>\n",
       "    <tr>\n",
       "      <th>0</th>\n",
       "      <td>3</td>\n",
       "      <td>4.508</td>\n",
       "      <td>19.202</td>\n",
       "    </tr>\n",
       "    <tr>\n",
       "      <th>1</th>\n",
       "      <td>4</td>\n",
       "      <td>0.096</td>\n",
       "      <td>7.734</td>\n",
       "    </tr>\n",
       "    <tr>\n",
       "      <th>2</th>\n",
       "      <td>4</td>\n",
       "      <td>3.133</td>\n",
       "      <td>13.811</td>\n",
       "    </tr>\n",
       "    <tr>\n",
       "      <th>3</th>\n",
       "      <td>6</td>\n",
       "      <td>7.909</td>\n",
       "      <td>53.018</td>\n",
       "    </tr>\n",
       "    <tr>\n",
       "      <th>4</th>\n",
       "      <td>8</td>\n",
       "      <td>7.811</td>\n",
       "      <td>55.299</td>\n",
       "    </tr>\n",
       "  </tbody>\n",
       "</table>\n",
       "</div>"
      ],
      "text/plain": [
       "   number_courses  time_study   Marks\n",
       "0               3       4.508  19.202\n",
       "1               4       0.096   7.734\n",
       "2               4       3.133  13.811\n",
       "3               6       7.909  53.018\n",
       "4               8       7.811  55.299"
      ]
     },
     "execution_count": 15,
     "metadata": {},
     "output_type": "execute_result"
    }
   ],
   "source": [
    "student_marks_df = pd.read_csv(\"../dataset/student_marks.csv\")\n",
    "student_marks_df.head()"
   ]
  },
  {
   "cell_type": "markdown",
   "id": "5941780e",
   "metadata": {},
   "source": [
    "Deskripsi:\n",
    "- Sumber: https://www.kaggle.com/yasserh/student-marks-dataset\n",
    "- Jumlah observasi sebanyak 100.\n",
    "- Jumlah attribute sebanyak 3, yaitu number_of_courses, time_study, dan marks.\n",
    "- Fitur: number_of_courses dan time_study.\n",
    "- Target: marks.\n",
    "- Task: Regresi."
   ]
  },
  {
   "cell_type": "markdown",
   "id": "86757d44",
   "metadata": {
    "slideshow": {
     "slide_type": "slide"
    }
   },
   "source": [
    "# Data Cleaning"
   ]
  },
  {
   "cell_type": "markdown",
   "id": "275cb470",
   "metadata": {},
   "source": [
    "## Rename Column"
   ]
  },
  {
   "cell_type": "code",
   "execution_count": 16,
   "id": "6e7bc805",
   "metadata": {
    "ExecuteTime": {
     "end_time": "2022-02-27T02:52:18.833703Z",
     "start_time": "2022-02-27T02:52:18.806403Z"
    },
    "scrolled": true
   },
   "outputs": [
    {
     "data": {
      "text/html": [
       "<div>\n",
       "<style scoped>\n",
       "    .dataframe tbody tr th:only-of-type {\n",
       "        vertical-align: middle;\n",
       "    }\n",
       "\n",
       "    .dataframe tbody tr th {\n",
       "        vertical-align: top;\n",
       "    }\n",
       "\n",
       "    .dataframe thead th {\n",
       "        text-align: right;\n",
       "    }\n",
       "</style>\n",
       "<table border=\"1\" class=\"dataframe\">\n",
       "  <thead>\n",
       "    <tr style=\"text-align: right;\">\n",
       "      <th></th>\n",
       "      <th>number_courses</th>\n",
       "      <th>time_study</th>\n",
       "      <th>marks</th>\n",
       "    </tr>\n",
       "  </thead>\n",
       "  <tbody>\n",
       "    <tr>\n",
       "      <th>0</th>\n",
       "      <td>3</td>\n",
       "      <td>4.508</td>\n",
       "      <td>19.202</td>\n",
       "    </tr>\n",
       "    <tr>\n",
       "      <th>1</th>\n",
       "      <td>4</td>\n",
       "      <td>0.096</td>\n",
       "      <td>7.734</td>\n",
       "    </tr>\n",
       "    <tr>\n",
       "      <th>2</th>\n",
       "      <td>4</td>\n",
       "      <td>3.133</td>\n",
       "      <td>13.811</td>\n",
       "    </tr>\n",
       "    <tr>\n",
       "      <th>3</th>\n",
       "      <td>6</td>\n",
       "      <td>7.909</td>\n",
       "      <td>53.018</td>\n",
       "    </tr>\n",
       "    <tr>\n",
       "      <th>4</th>\n",
       "      <td>8</td>\n",
       "      <td>7.811</td>\n",
       "      <td>55.299</td>\n",
       "    </tr>\n",
       "  </tbody>\n",
       "</table>\n",
       "</div>"
      ],
      "text/plain": [
       "   number_courses  time_study   marks\n",
       "0               3       4.508  19.202\n",
       "1               4       0.096   7.734\n",
       "2               4       3.133  13.811\n",
       "3               6       7.909  53.018\n",
       "4               8       7.811  55.299"
      ]
     },
     "execution_count": 16,
     "metadata": {},
     "output_type": "execute_result"
    }
   ],
   "source": [
    "student_marks_df.rename(columns={\"Marks\": \"marks\"}, inplace=True)\n",
    "student_marks_df.head()"
   ]
  },
  {
   "cell_type": "markdown",
   "id": "38964782",
   "metadata": {
    "slideshow": {
     "slide_type": "subslide"
    }
   },
   "source": [
    "## Check Missing Value"
   ]
  },
  {
   "cell_type": "code",
   "execution_count": 17,
   "id": "67cd86b2",
   "metadata": {
    "ExecuteTime": {
     "end_time": "2022-02-27T02:52:18.922079Z",
     "start_time": "2022-02-27T02:52:18.898165Z"
    }
   },
   "outputs": [
    {
     "data": {
      "text/plain": [
       "number_courses    0\n",
       "time_study        0\n",
       "marks             0\n",
       "dtype: int64"
      ]
     },
     "execution_count": 17,
     "metadata": {},
     "output_type": "execute_result"
    }
   ],
   "source": [
    "student_marks_df.isna().sum()"
   ]
  },
  {
   "cell_type": "markdown",
   "id": "3d34661f",
   "metadata": {
    "slideshow": {
     "slide_type": "subslide"
    }
   },
   "source": [
    "## Check Datatypes"
   ]
  },
  {
   "cell_type": "code",
   "execution_count": 18,
   "id": "5bd15a49",
   "metadata": {
    "ExecuteTime": {
     "end_time": "2022-02-27T02:52:18.985407Z",
     "start_time": "2022-02-27T02:52:18.958977Z"
    }
   },
   "outputs": [
    {
     "data": {
      "text/plain": [
       "number_courses      int64\n",
       "time_study        float64\n",
       "marks             float64\n",
       "dtype: object"
      ]
     },
     "execution_count": 18,
     "metadata": {},
     "output_type": "execute_result"
    }
   ],
   "source": [
    "student_marks_df.dtypes"
   ]
  },
  {
   "cell_type": "markdown",
   "id": "09e8f51f",
   "metadata": {
    "slideshow": {
     "slide_type": "slide"
    }
   },
   "source": [
    "# Tipe Data\n",
    "\n",
    "- Data Kualitatif:\n",
    "    - Nominal: -\n",
    "    - Ordinal: -\n",
    "    \n",
    "    \n",
    "- Data Kuantitatif:\n",
    "    - Interval: -\n",
    "    - Ratio: number_of_courses, time_study, marks."
   ]
  },
  {
   "cell_type": "markdown",
   "id": "0a760a19",
   "metadata": {
    "slideshow": {
     "slide_type": "slide"
    }
   },
   "source": [
    "# Distribusi Frekuensi"
   ]
  },
  {
   "cell_type": "markdown",
   "id": "7b0551c4",
   "metadata": {},
   "source": [
    "## Number of Courses"
   ]
  },
  {
   "cell_type": "code",
   "execution_count": 19,
   "id": "bd0c4edf",
   "metadata": {
    "ExecuteTime": {
     "end_time": "2022-02-27T02:52:19.403020Z",
     "start_time": "2022-02-27T02:52:19.065566Z"
    }
   },
   "outputs": [
    {
     "data": {
      "image/png": "[encoded data removed]",
      "text/plain": [
       "<Figure size 432x288 with 1 Axes>"
      ]
     },
     "metadata": {
      "needs_background": "light"
     },
     "output_type": "display_data"
    }
   ],
   "source": [
    "number_courses = pd.DataFrame(\n",
    "    data={\n",
    "        \"number_of_courses\": student_marks_df[\"number_courses\"].value_counts().index,\n",
    "        \"freq\": student_marks_df[\"number_courses\"].value_counts().values\n",
    "    }\n",
    ")\n",
    "\n",
    "number_courses.plot(\n",
    "    kind=\"bar\",\n",
    "    x=\"number_of_courses\",\n",
    "    y=\"freq\",\n",
    "    legend=False,\n",
    "    xlabel=\"Number of Coourses\",\n",
    "    ylabel=\"Frequency\"\n",
    ");"
   ]
  },
  {
   "cell_type": "markdown",
   "id": "79d1251b",
   "metadata": {
    "slideshow": {
     "slide_type": "subslide"
    }
   },
   "source": [
    "## Time Study"
   ]
  },
  {
   "cell_type": "code",
   "execution_count": 20,
   "id": "e28dc21d",
   "metadata": {
    "ExecuteTime": {
     "end_time": "2022-02-27T02:52:20.129577Z",
     "start_time": "2022-02-27T02:52:19.409237Z"
    }
   },
   "outputs": [
    {
     "data": {
      "image/png": "[encoded data removed]",
      "text/plain": [
       "<Figure size 432x288 with 1 Axes>"
      ]
     },
     "metadata": {
      "needs_background": "light"
     },
     "output_type": "display_data"
    }
   ],
   "source": [
    "student_marks_df[\"time_study\"].plot(\n",
    "    kind=\"hist\",\n",
    "    title=\"Histogram Time of Study\",\n",
    "    grid=True\n",
    ");"
   ]
  },
  {
   "cell_type": "code",
   "execution_count": 21,
   "id": "55f83d69",
   "metadata": {
    "ExecuteTime": {
     "end_time": "2022-02-27T02:52:20.211097Z",
     "start_time": "2022-02-27T02:52:20.144223Z"
    }
   },
   "outputs": [
    {
     "data": {
      "text/html": [
       "<div>\n",
       "<style scoped>\n",
       "    .dataframe tbody tr th:only-of-type {\n",
       "        vertical-align: middle;\n",
       "    }\n",
       "\n",
       "    .dataframe tbody tr th {\n",
       "        vertical-align: top;\n",
       "    }\n",
       "\n",
       "    .dataframe thead th {\n",
       "        text-align: right;\n",
       "    }\n",
       "</style>\n",
       "<table border=\"1\" class=\"dataframe\">\n",
       "  <thead>\n",
       "    <tr style=\"text-align: right;\">\n",
       "      <th></th>\n",
       "      <th>time_study</th>\n",
       "      <th>freq</th>\n",
       "    </tr>\n",
       "  </thead>\n",
       "  <tbody>\n",
       "    <tr>\n",
       "      <th>0</th>\n",
       "      <td>2.438</td>\n",
       "      <td>1</td>\n",
       "    </tr>\n",
       "    <tr>\n",
       "      <th>1</th>\n",
       "      <td>6.063</td>\n",
       "      <td>1</td>\n",
       "    </tr>\n",
       "    <tr>\n",
       "      <th>2</th>\n",
       "      <td>1.803</td>\n",
       "      <td>1</td>\n",
       "    </tr>\n",
       "    <tr>\n",
       "      <th>3</th>\n",
       "      <td>1.954</td>\n",
       "      <td>1</td>\n",
       "    </tr>\n",
       "    <tr>\n",
       "      <th>4</th>\n",
       "      <td>7.451</td>\n",
       "      <td>1</td>\n",
       "    </tr>\n",
       "  </tbody>\n",
       "</table>\n",
       "</div>"
      ],
      "text/plain": [
       "   time_study  freq\n",
       "0       2.438     1\n",
       "1       6.063     1\n",
       "2       1.803     1\n",
       "3       1.954     1\n",
       "4       7.451     1"
      ]
     },
     "execution_count": 21,
     "metadata": {},
     "output_type": "execute_result"
    }
   ],
   "source": [
    "pd.DataFrame(\n",
    "    data={\n",
    "        \"time_study\": student_marks_df[\"time_study\"].value_counts().index,\n",
    "        \"freq\": student_marks_df[\"time_study\"].value_counts().values\n",
    "    }\n",
    ").head()"
   ]
  },
  {
   "cell_type": "markdown",
   "id": "944ad854",
   "metadata": {},
   "source": [
    "- Rentang waktu belajar di antara 0.096-7.957000000000001 jam per hari.\n",
    "- Waktu rata-rata dari 100 siswa berbeda-beda\n",
    "- Waktu belajar terpendek adalah 0.096 jam setiap hari pada mahasisaw id 1.\n",
    "- Waktu belajar terpanjang adalah 7.957000000000001 jam setiap hari pada mahasiswa id 80."
   ]
  },
  {
   "cell_type": "markdown",
   "id": "0526c15c",
   "metadata": {
    "slideshow": {
     "slide_type": "subslide"
    }
   },
   "source": [
    "## Marks"
   ]
  },
  {
   "cell_type": "code",
   "execution_count": 22,
   "id": "392def59",
   "metadata": {
    "ExecuteTime": {
     "end_time": "2022-02-27T02:52:20.296154Z",
     "start_time": "2022-02-27T02:52:20.228647Z"
    }
   },
   "outputs": [
    {
     "data": {
      "text/html": [
       "<div>\n",
       "<style scoped>\n",
       "    .dataframe tbody tr th:only-of-type {\n",
       "        vertical-align: middle;\n",
       "    }\n",
       "\n",
       "    .dataframe tbody tr th {\n",
       "        vertical-align: top;\n",
       "    }\n",
       "\n",
       "    .dataframe thead th {\n",
       "        text-align: right;\n",
       "    }\n",
       "</style>\n",
       "<table border=\"1\" class=\"dataframe\">\n",
       "  <thead>\n",
       "    <tr style=\"text-align: right;\">\n",
       "      <th></th>\n",
       "      <th>number_courses</th>\n",
       "      <th>time_study</th>\n",
       "      <th>marks</th>\n",
       "    </tr>\n",
       "  </thead>\n",
       "  <tbody>\n",
       "    <tr>\n",
       "      <th>10</th>\n",
       "      <td>3</td>\n",
       "      <td>7.353</td>\n",
       "      <td>42.036</td>\n",
       "    </tr>\n",
       "    <tr>\n",
       "      <th>17</th>\n",
       "      <td>8</td>\n",
       "      <td>6.080</td>\n",
       "      <td>38.490</td>\n",
       "    </tr>\n",
       "    <tr>\n",
       "      <th>21</th>\n",
       "      <td>6</td>\n",
       "      <td>6.126</td>\n",
       "      <td>35.939</td>\n",
       "    </tr>\n",
       "    <tr>\n",
       "      <th>33</th>\n",
       "      <td>6</td>\n",
       "      <td>6.594</td>\n",
       "      <td>39.965</td>\n",
       "    </tr>\n",
       "    <tr>\n",
       "      <th>35</th>\n",
       "      <td>3</td>\n",
       "      <td>7.543</td>\n",
       "      <td>43.978</td>\n",
       "    </tr>\n",
       "    <tr>\n",
       "      <th>38</th>\n",
       "      <td>7</td>\n",
       "      <td>6.533</td>\n",
       "      <td>41.358</td>\n",
       "    </tr>\n",
       "    <tr>\n",
       "      <th>50</th>\n",
       "      <td>6</td>\n",
       "      <td>6.703</td>\n",
       "      <td>40.602</td>\n",
       "    </tr>\n",
       "    <tr>\n",
       "      <th>53</th>\n",
       "      <td>7</td>\n",
       "      <td>6.049</td>\n",
       "      <td>36.653</td>\n",
       "    </tr>\n",
       "    <tr>\n",
       "      <th>74</th>\n",
       "      <td>4</td>\n",
       "      <td>6.954</td>\n",
       "      <td>39.952</td>\n",
       "    </tr>\n",
       "    <tr>\n",
       "      <th>76</th>\n",
       "      <td>5</td>\n",
       "      <td>6.379</td>\n",
       "      <td>36.746</td>\n",
       "    </tr>\n",
       "    <tr>\n",
       "      <th>77</th>\n",
       "      <td>8</td>\n",
       "      <td>5.985</td>\n",
       "      <td>38.278</td>\n",
       "    </tr>\n",
       "    <tr>\n",
       "      <th>82</th>\n",
       "      <td>4</td>\n",
       "      <td>7.410</td>\n",
       "      <td>44.099</td>\n",
       "    </tr>\n",
       "    <tr>\n",
       "      <th>85</th>\n",
       "      <td>8</td>\n",
       "      <td>6.201</td>\n",
       "      <td>39.957</td>\n",
       "    </tr>\n",
       "    <tr>\n",
       "      <th>89</th>\n",
       "      <td>7</td>\n",
       "      <td>6.376</td>\n",
       "      <td>40.024</td>\n",
       "    </tr>\n",
       "    <tr>\n",
       "      <th>93</th>\n",
       "      <td>8</td>\n",
       "      <td>6.471</td>\n",
       "      <td>42.426</td>\n",
       "    </tr>\n",
       "    <tr>\n",
       "      <th>97</th>\n",
       "      <td>4</td>\n",
       "      <td>7.163</td>\n",
       "      <td>41.444</td>\n",
       "    </tr>\n",
       "  </tbody>\n",
       "</table>\n",
       "</div>"
      ],
      "text/plain": [
       "    number_courses  time_study   marks\n",
       "10               3       7.353  42.036\n",
       "17               8       6.080  38.490\n",
       "21               6       6.126  35.939\n",
       "33               6       6.594  39.965\n",
       "35               3       7.543  43.978\n",
       "38               7       6.533  41.358\n",
       "50               6       6.703  40.602\n",
       "53               7       6.049  36.653\n",
       "74               4       6.954  39.952\n",
       "76               5       6.379  36.746\n",
       "77               8       5.985  38.278\n",
       "82               4       7.410  44.099\n",
       "85               8       6.201  39.957\n",
       "89               7       6.376  40.024\n",
       "93               8       6.471  42.426\n",
       "97               4       7.163  41.444"
      ]
     },
     "execution_count": 22,
     "metadata": {},
     "output_type": "execute_result"
    }
   ],
   "source": [
    "student_marks_df[(student_marks_df[\"marks\"] >= 35) & (student_marks_df[\"marks\"] <= 45)]"
   ]
  },
  {
   "cell_type": "code",
   "execution_count": 23,
   "id": "2c9b59ae",
   "metadata": {
    "ExecuteTime": {
     "end_time": "2022-02-27T02:52:20.367033Z",
     "start_time": "2022-02-27T02:52:20.307784Z"
    }
   },
   "outputs": [
    {
     "data": {
      "text/html": [
       "<div>\n",
       "<style scoped>\n",
       "    .dataframe tbody tr th:only-of-type {\n",
       "        vertical-align: middle;\n",
       "    }\n",
       "\n",
       "    .dataframe tbody tr th {\n",
       "        vertical-align: top;\n",
       "    }\n",
       "\n",
       "    .dataframe thead th {\n",
       "        text-align: right;\n",
       "    }\n",
       "</style>\n",
       "<table border=\"1\" class=\"dataframe\">\n",
       "  <thead>\n",
       "    <tr style=\"text-align: right;\">\n",
       "      <th></th>\n",
       "      <th>number_courses</th>\n",
       "      <th>time_study</th>\n",
       "      <th>marks</th>\n",
       "    </tr>\n",
       "  </thead>\n",
       "  <tbody>\n",
       "    <tr>\n",
       "      <th>19</th>\n",
       "      <td>8</td>\n",
       "      <td>3.977</td>\n",
       "      <td>25.133</td>\n",
       "    </tr>\n",
       "    <tr>\n",
       "      <th>27</th>\n",
       "      <td>8</td>\n",
       "      <td>4.378</td>\n",
       "      <td>26.532</td>\n",
       "    </tr>\n",
       "    <tr>\n",
       "      <th>48</th>\n",
       "      <td>3</td>\n",
       "      <td>5.635</td>\n",
       "      <td>26.882</td>\n",
       "    </tr>\n",
       "    <tr>\n",
       "      <th>66</th>\n",
       "      <td>4</td>\n",
       "      <td>5.473</td>\n",
       "      <td>27.569</td>\n",
       "    </tr>\n",
       "    <tr>\n",
       "      <th>23</th>\n",
       "      <td>7</td>\n",
       "      <td>4.875</td>\n",
       "      <td>28.043</td>\n",
       "    </tr>\n",
       "    <tr>\n",
       "      <th>6</th>\n",
       "      <td>3</td>\n",
       "      <td>6.063</td>\n",
       "      <td>29.889</td>\n",
       "    </tr>\n",
       "    <tr>\n",
       "      <th>16</th>\n",
       "      <td>5</td>\n",
       "      <td>5.719</td>\n",
       "      <td>30.548</td>\n",
       "    </tr>\n",
       "    <tr>\n",
       "      <th>9</th>\n",
       "      <td>3</td>\n",
       "      <td>6.173</td>\n",
       "      <td>30.862</td>\n",
       "    </tr>\n",
       "    <tr>\n",
       "      <th>58</th>\n",
       "      <td>3</td>\n",
       "      <td>6.198</td>\n",
       "      <td>31.236</td>\n",
       "    </tr>\n",
       "    <tr>\n",
       "      <th>99</th>\n",
       "      <td>3</td>\n",
       "      <td>6.335</td>\n",
       "      <td>32.357</td>\n",
       "    </tr>\n",
       "  </tbody>\n",
       "</table>\n",
       "</div>"
      ],
      "text/plain": [
       "    number_courses  time_study   marks\n",
       "19               8       3.977  25.133\n",
       "27               8       4.378  26.532\n",
       "48               3       5.635  26.882\n",
       "66               4       5.473  27.569\n",
       "23               7       4.875  28.043\n",
       "6                3       6.063  29.889\n",
       "16               5       5.719  30.548\n",
       "9                3       6.173  30.862\n",
       "58               3       6.198  31.236\n",
       "99               3       6.335  32.357"
      ]
     },
     "execution_count": 23,
     "metadata": {},
     "output_type": "execute_result"
    }
   ],
   "source": [
    "student_marks_df[(student_marks_df[\"marks\"] < 35)].sort_values(by=\"marks\").tail(10)"
   ]
  },
  {
   "cell_type": "code",
   "execution_count": 24,
   "id": "04806e27",
   "metadata": {
    "ExecuteTime": {
     "end_time": "2022-02-27T02:52:21.210838Z",
     "start_time": "2022-02-27T02:52:20.380425Z"
    }
   },
   "outputs": [
    {
     "data": {
      "image/png": "[encoded data removed]",
      "text/plain": [
       "<Figure size 432x288 with 1 Axes>"
      ]
     },
     "metadata": {
      "needs_background": "light"
     },
     "output_type": "display_data"
    }
   ],
   "source": [
    "student_marks_df[\"marks\"].plot(\n",
    "    kind=\"hist\",\n",
    "    x=\"marks\",\n",
    "    title=\"Histogram marks\",\n",
    "    grid=True\n",
    ");"
   ]
  },
  {
   "cell_type": "code",
   "execution_count": 25,
   "id": "c7a37df5",
   "metadata": {
    "ExecuteTime": {
     "end_time": "2022-02-27T02:52:21.699612Z",
     "start_time": "2022-02-27T02:52:21.224164Z"
    },
    "hide_input": true
   },
   "outputs": [
    {
     "data": {
      "image/png": "[encoded data removed]",
      "text/plain": [
       "<Figure size 432x288 with 1 Axes>"
      ]
     },
     "metadata": {
      "needs_background": "light"
     },
     "output_type": "display_data"
    }
   ],
   "source": [
    "student_marks_df[\"marks\"].plot(\n",
    "    kind=\"kde\",\n",
    "    x=\"marks\",\n",
    "    title=\"Histogram marks\",\n",
    "    grid=True\n",
    ");"
   ]
  },
  {
   "cell_type": "markdown",
   "id": "d75d58e0",
   "metadata": {},
   "source": [
    "- Semua nilai dari 100 mahasiswa berbeda-beda.\n",
    "- Sebaran nilai terdistribusi hampir normal."
   ]
  },
  {
   "cell_type": "markdown",
   "id": "f7c91d2f",
   "metadata": {
    "slideshow": {
     "slide_type": "slide"
    }
   },
   "source": [
    "# Relation Plot"
   ]
  },
  {
   "cell_type": "code",
   "execution_count": null,
   "id": "eb3608a8",
   "metadata": {
    "ExecuteTime": {
     "end_time": "2022-02-27T02:51:50.399867Z",
     "start_time": "2022-02-27T02:51:50.399867Z"
    },
    "hide_input": true
   },
   "outputs": [],
   "source": [
    "student_marks_df[[\"number_courses\", \"time_study\"]].corrwith(student_marks_df[\"marks\"], method=\"pearson\")"
   ]
  },
  {
   "cell_type": "markdown",
   "id": "2f15919c",
   "metadata": {},
   "source": [
    "- Korelasi time_study dengan marks sangat tinggi, yaitu +0.942254.\n",
    "- Korelasi number_courses dengan marks tidak terlalu tinggi, yaitu +0.417335."
   ]
  },
  {
   "cell_type": "code",
   "execution_count": null,
   "id": "019b8404",
   "metadata": {
    "ExecuteTime": {
     "end_time": "2022-02-27T02:51:50.408149Z",
     "start_time": "2022-02-27T02:51:50.408149Z"
    },
    "hide_input": true
   },
   "outputs": [],
   "source": [
    "student_marks_df.plot(\n",
    "    kind=\"scatter\",\n",
    "    x=\"number_courses\",\n",
    "    y=\"marks\",\n",
    "    title=\"Marks and Number of Courses Relation\"\n",
    ");"
   ]
  },
  {
   "cell_type": "code",
   "execution_count": null,
   "id": "9511d487",
   "metadata": {
    "ExecuteTime": {
     "end_time": "2022-02-27T02:51:50.415252Z",
     "start_time": "2022-02-27T02:51:50.415252Z"
    },
    "hide_input": true
   },
   "outputs": [],
   "source": [
    "student_marks_df.plot(\n",
    "    kind=\"scatter\",\n",
    "    x=\"time_study\",\n",
    "    y=\"marks\",\n",
    "    title=\"Marks and Time of Study Relation\"\n",
    ");"
   ]
  },
  {
   "cell_type": "code",
   "execution_count": null,
   "id": "da18018d",
   "metadata": {
    "ExecuteTime": {
     "end_time": "2022-02-27T02:51:50.421848Z",
     "start_time": "2022-02-27T02:51:50.421848Z"
    },
    "hide_input": true
   },
   "outputs": [],
   "source": [
    "student_marks_df.plot(\n",
    "    kind=\"scatter\",\n",
    "    x=\"number_courses\",\n",
    "    y=\"time_study\",\n",
    "    title=\"Number of Courses and Time Study Relation\"\n",
    ");"
   ]
  },
  {
   "cell_type": "markdown",
   "id": "6732a88c",
   "metadata": {
    "slideshow": {
     "slide_type": "slide"
    }
   },
   "source": [
    "# Central of Tendency"
   ]
  },
  {
   "cell_type": "code",
   "execution_count": 26,
   "id": "fe2b61a0",
   "metadata": {
    "ExecuteTime": {
     "end_time": "2022-02-27T02:52:48.017731Z",
     "start_time": "2022-02-27T02:52:47.963142Z"
    },
    "hide_input": false
   },
   "outputs": [
    {
     "data": {
      "text/html": [
       "<div>\n",
       "<style scoped>\n",
       "    .dataframe tbody tr th:only-of-type {\n",
       "        vertical-align: middle;\n",
       "    }\n",
       "\n",
       "    .dataframe tbody tr th {\n",
       "        vertical-align: top;\n",
       "    }\n",
       "\n",
       "    .dataframe thead th {\n",
       "        text-align: right;\n",
       "    }\n",
       "</style>\n",
       "<table border=\"1\" class=\"dataframe\">\n",
       "  <thead>\n",
       "    <tr style=\"text-align: right;\">\n",
       "      <th></th>\n",
       "      <th>number_courses</th>\n",
       "      <th>time_study</th>\n",
       "      <th>marks</th>\n",
       "    </tr>\n",
       "  </thead>\n",
       "  <tbody>\n",
       "    <tr>\n",
       "      <th>count</th>\n",
       "      <td>100.000000</td>\n",
       "      <td>100.000000</td>\n",
       "      <td>100.000000</td>\n",
       "    </tr>\n",
       "    <tr>\n",
       "      <th>mean</th>\n",
       "      <td>5.290000</td>\n",
       "      <td>4.077140</td>\n",
       "      <td>24.417690</td>\n",
       "    </tr>\n",
       "    <tr>\n",
       "      <th>std</th>\n",
       "      <td>1.799523</td>\n",
       "      <td>2.372914</td>\n",
       "      <td>14.326199</td>\n",
       "    </tr>\n",
       "    <tr>\n",
       "      <th>min</th>\n",
       "      <td>3.000000</td>\n",
       "      <td>0.096000</td>\n",
       "      <td>5.609000</td>\n",
       "    </tr>\n",
       "    <tr>\n",
       "      <th>25%</th>\n",
       "      <td>4.000000</td>\n",
       "      <td>2.058500</td>\n",
       "      <td>12.633000</td>\n",
       "    </tr>\n",
       "    <tr>\n",
       "      <th>50%</th>\n",
       "      <td>5.000000</td>\n",
       "      <td>4.022000</td>\n",
       "      <td>20.059500</td>\n",
       "    </tr>\n",
       "    <tr>\n",
       "      <th>75%</th>\n",
       "      <td>7.000000</td>\n",
       "      <td>6.179250</td>\n",
       "      <td>36.676250</td>\n",
       "    </tr>\n",
       "    <tr>\n",
       "      <th>max</th>\n",
       "      <td>8.000000</td>\n",
       "      <td>7.957000</td>\n",
       "      <td>55.299000</td>\n",
       "    </tr>\n",
       "  </tbody>\n",
       "</table>\n",
       "</div>"
      ],
      "text/plain": [
       "       number_courses  time_study       marks\n",
       "count      100.000000  100.000000  100.000000\n",
       "mean         5.290000    4.077140   24.417690\n",
       "std          1.799523    2.372914   14.326199\n",
       "min          3.000000    0.096000    5.609000\n",
       "25%          4.000000    2.058500   12.633000\n",
       "50%          5.000000    4.022000   20.059500\n",
       "75%          7.000000    6.179250   36.676250\n",
       "max          8.000000    7.957000   55.299000"
      ]
     },
     "execution_count": 26,
     "metadata": {},
     "output_type": "execute_result"
    }
   ],
   "source": [
    "student_marks_df.describe()"
   ]
  },
  {
   "cell_type": "markdown",
   "id": "eede1a30",
   "metadata": {
    "slideshow": {
     "slide_type": "slide"
    }
   },
   "source": [
    "# Measure of Variation"
   ]
  },
  {
   "cell_type": "markdown",
   "id": "d848a379",
   "metadata": {},
   "source": [
    "## Range"
   ]
  },
  {
   "cell_type": "code",
   "execution_count": 27,
   "id": "64f67e8b",
   "metadata": {
    "ExecuteTime": {
     "end_time": "2022-02-27T02:52:51.946563Z",
     "start_time": "2022-02-27T02:52:51.911817Z"
    },
    "hide_input": false
   },
   "outputs": [
    {
     "name": "stdout",
     "output_type": "stream",
     "text": [
      "Number of Courses range : 5\n",
      "Time of Study range     : 7.861000000000001\n",
      "Marks range             : 49.69\n"
     ]
    }
   ],
   "source": [
    "number_courses_range = student_marks_df[\"number_courses\"].max() - student_marks_df[\"number_courses\"].min()\n",
    "times_study_range = student_marks_df[\"time_study\"].max() - student_marks_df[\"time_study\"].min()\n",
    "marks_range = student_marks_df[\"marks\"].max() - student_marks_df[\"marks\"].min()\n",
    "\n",
    "print(f\"Number of Courses range : {number_courses_range}\")\n",
    "print(f\"Time of Study range     : {times_study_range}\")\n",
    "print(f\"Marks range             : {marks_range}\")"
   ]
  },
  {
   "cell_type": "markdown",
   "id": "694d87dd",
   "metadata": {
    "ExecuteTime": {
     "end_time": "2022-02-27T01:54:27.863720Z",
     "start_time": "2022-02-27T01:54:27.853719Z"
    }
   },
   "source": [
    "- Rentang nilai pada kolom `marks` lebih besar dibandingkan kolom lainnya, yaitu sebesar 49.69. Degan kata lain keberagaman atau variasi sebaran data pada kolom marks tinggi.\n",
    "- 100 mahasiswa memiliki nilai `marks` yang berbeda."
   ]
  },
  {
   "cell_type": "markdown",
   "id": "7f553750",
   "metadata": {
    "slideshow": {
     "slide_type": "subslide"
    }
   },
   "source": [
    "## Variance"
   ]
  },
  {
   "cell_type": "code",
   "execution_count": 28,
   "id": "0560f59f",
   "metadata": {
    "ExecuteTime": {
     "end_time": "2022-02-27T02:52:56.486566Z",
     "start_time": "2022-02-27T02:52:56.455254Z"
    }
   },
   "outputs": [
    {
     "data": {
      "text/plain": [
       "number_courses      3.238283\n",
       "time_study          5.630722\n",
       "marks             205.239965\n",
       "dtype: float64"
      ]
     },
     "execution_count": 28,
     "metadata": {},
     "output_type": "execute_result"
    }
   ],
   "source": [
    "student_marks_df.var()"
   ]
  },
  {
   "cell_type": "markdown",
   "id": "2df079f3",
   "metadata": {
    "slideshow": {
     "slide_type": "subslide"
    }
   },
   "source": [
    "## Standard Deviation"
   ]
  },
  {
   "cell_type": "code",
   "execution_count": 29,
   "id": "f0cd4b3e",
   "metadata": {
    "ExecuteTime": {
     "end_time": "2022-02-27T02:52:58.095201Z",
     "start_time": "2022-02-27T02:52:58.067498Z"
    }
   },
   "outputs": [
    {
     "data": {
      "text/plain": [
       "number_courses     1.799523\n",
       "time_study         2.372914\n",
       "marks             14.326199\n",
       "dtype: float64"
      ]
     },
     "execution_count": 29,
     "metadata": {},
     "output_type": "execute_result"
    }
   ],
   "source": [
    "student_marks_df.std()"
   ]
  },
  {
   "cell_type": "markdown",
   "id": "e886283b",
   "metadata": {
    "slideshow": {
     "slide_type": "slide"
    }
   },
   "source": [
    "# Empirical Rule"
   ]
  },
  {
   "cell_type": "markdown",
   "id": "008f9b0e",
   "metadata": {},
   "source": [
    "## Q1"
   ]
  },
  {
   "cell_type": "code",
   "execution_count": 30,
   "id": "63db577b",
   "metadata": {
    "ExecuteTime": {
     "end_time": "2022-02-27T02:52:58.804367Z",
     "start_time": "2022-02-27T02:52:58.787085Z"
    }
   },
   "outputs": [
    {
     "data": {
      "text/plain": [
       "number_courses     4.0000\n",
       "time_study         2.0585\n",
       "marks             12.6330\n",
       "Name: 0.25, dtype: float64"
      ]
     },
     "execution_count": 30,
     "metadata": {},
     "output_type": "execute_result"
    }
   ],
   "source": [
    "student_marks_df.quantile(0.25)"
   ]
  },
  {
   "cell_type": "markdown",
   "id": "af937dca",
   "metadata": {
    "slideshow": {
     "slide_type": "subslide"
    }
   },
   "source": [
    "## Q2"
   ]
  },
  {
   "cell_type": "code",
   "execution_count": 31,
   "id": "5f0be698",
   "metadata": {
    "ExecuteTime": {
     "end_time": "2022-02-27T02:52:59.520087Z",
     "start_time": "2022-02-27T02:52:59.498922Z"
    }
   },
   "outputs": [
    {
     "data": {
      "text/plain": [
       "number_courses     5.0000\n",
       "time_study         4.0220\n",
       "marks             20.0595\n",
       "Name: 0.5, dtype: float64"
      ]
     },
     "execution_count": 31,
     "metadata": {},
     "output_type": "execute_result"
    }
   ],
   "source": [
    "student_marks_df.quantile(0.5)"
   ]
  },
  {
   "cell_type": "markdown",
   "id": "7a8d246d",
   "metadata": {
    "slideshow": {
     "slide_type": "subslide"
    }
   },
   "source": [
    "## Q3"
   ]
  },
  {
   "cell_type": "code",
   "execution_count": 32,
   "id": "24eb0d41",
   "metadata": {
    "ExecuteTime": {
     "end_time": "2022-02-27T02:53:00.109851Z",
     "start_time": "2022-02-27T02:53:00.089299Z"
    }
   },
   "outputs": [
    {
     "data": {
      "text/plain": [
       "number_courses     7.00000\n",
       "time_study         6.17925\n",
       "marks             36.67625\n",
       "Name: 0.75, dtype: float64"
      ]
     },
     "execution_count": 32,
     "metadata": {},
     "output_type": "execute_result"
    }
   ],
   "source": [
    "student_marks_df.quantile(0.75)"
   ]
  },
  {
   "cell_type": "markdown",
   "id": "ebdd351d",
   "metadata": {
    "slideshow": {
     "slide_type": "slide"
    }
   },
   "source": [
    "# Outlier"
   ]
  },
  {
   "cell_type": "code",
   "execution_count": 33,
   "id": "24d5372e",
   "metadata": {
    "ExecuteTime": {
     "end_time": "2022-02-27T02:53:00.314035Z",
     "start_time": "2022-02-27T02:53:00.275676Z"
    },
    "hide_input": true
   },
   "outputs": [
    {
     "name": "stdout",
     "output_type": "stream",
     "text": [
      "Number of Courses\n",
      "lower_courses: -0.5\n",
      "upper_courses: 11.5\n",
      "\n",
      "Time of Study\n",
      "lower_courses: -4.122624999999999\n",
      "upper_courses: 12.360374999999998\n",
      "\n",
      "Time of Study\n",
      "lower_courses: -23.43187500000001\n",
      "upper_courses: 72.74112500000001\n"
     ]
    }
   ],
   "source": [
    "# number_of_courses\n",
    "lower_courses = 4.0000 - 1.5 * (7.00000 - 4.0000)\n",
    "upper_courses = 7.00000 + 1.5 * (7.00000 - 4.0000)\n",
    "\n",
    "print(f\"Number of Courses\")\n",
    "print(f\"lower_courses: {lower_courses}\")\n",
    "print(f\"upper_courses: {upper_courses}\")\n",
    "\n",
    "# time_study\n",
    "lower_time_study = 2.0585 - 1.5 * (6.17925 - 2.0585)\n",
    "upper_time_study = 6.17925 + 1.5 * (6.17925 - 2.0585)\n",
    "\n",
    "print(f\"\\nTime of Study\")\n",
    "print(f\"lower_courses: {lower_time_study}\")\n",
    "print(f\"upper_courses: {upper_time_study}\")\n",
    "\n",
    "# marks\n",
    "lower_marks = 12.6330 - 1.5 * (36.67625 - 12.6330)\n",
    "upper_marks = 36.67625 + 1.5 * (36.67625 - 12.6330)\n",
    "\n",
    "print(f\"\\nTime of Study\")\n",
    "print(f\"lower_courses: {lower_marks}\")\n",
    "print(f\"upper_courses: {upper_marks}\")"
   ]
  },
  {
   "cell_type": "code",
   "execution_count": 34,
   "id": "7a5dc711",
   "metadata": {
    "ExecuteTime": {
     "end_time": "2022-02-27T02:53:00.374569Z",
     "start_time": "2022-02-27T02:53:00.357649Z"
    },
    "hide_input": true
   },
   "outputs": [
    {
     "data": {
      "text/plain": [
       "(100, 3)"
      ]
     },
     "execution_count": 34,
     "metadata": {},
     "output_type": "execute_result"
    }
   ],
   "source": [
    "student_marks_df[student_marks_df[\"number_courses\"] <= 11.5].shape"
   ]
  },
  {
   "cell_type": "code",
   "execution_count": 35,
   "id": "f4020b55",
   "metadata": {
    "ExecuteTime": {
     "end_time": "2022-02-27T02:53:00.472413Z",
     "start_time": "2022-02-27T02:53:00.448675Z"
    },
    "hide_input": true
   },
   "outputs": [
    {
     "data": {
      "text/plain": [
       "((100, 3),)"
      ]
     },
     "execution_count": 35,
     "metadata": {},
     "output_type": "execute_result"
    }
   ],
   "source": [
    "student_marks_df[student_marks_df[\"time_study\"] <= 12.360374999999998].shape,"
   ]
  },
  {
   "cell_type": "code",
   "execution_count": 36,
   "id": "b1d771e7",
   "metadata": {
    "ExecuteTime": {
     "end_time": "2022-02-27T02:53:00.541461Z",
     "start_time": "2022-02-27T02:53:00.523220Z"
    },
    "hide_input": true
   },
   "outputs": [
    {
     "data": {
      "text/plain": [
       "(100, 3)"
      ]
     },
     "execution_count": 36,
     "metadata": {},
     "output_type": "execute_result"
    }
   ],
   "source": [
    "student_marks_df[student_marks_df[\"marks\"] <= 72.74112500000001].shape"
   ]
  },
  {
   "cell_type": "markdown",
   "id": "d656f80c",
   "metadata": {},
   "source": [
    "Tidak ada outlier"
   ]
  },
  {
   "cell_type": "code",
   "execution_count": null,
   "id": "56d4cc18",
   "metadata": {},
   "outputs": [],
   "source": []
  }
 ],
 "metadata": {
  "celltoolbar": "Slideshow",
  "kernelspec": {
   "display_name": "Python 3 (ipykernel)",
   "language": "python",
   "name": "python3"
  },
  "language_info": {
   "codemirror_mode": {
    "name": "ipython",
    "version": 3
   },
   "file_extension": ".py",
   "mimetype": "text/x-python",
   "name": "python",
   "nbconvert_exporter": "python",
   "pygments_lexer": "ipython3",
   "version": "3.8.12"
  },
  "nbTranslate": {
   "displayLangs": [
    "*"
   ],
   "hotkey": "alt-t",
   "langInMainMenu": true,
   "sourceLang": "en",
   "targetLang": "fr",
   "useGoogleTranslate": true
  },
  "toc": {
   "base_numbering": 1,
   "nav_menu": {},
   "number_sections": true,
   "sideBar": true,
   "skip_h1_title": false,
   "title_cell": "Table of Contents",
   "title_sidebar": "Contents",
   "toc_cell": false,
   "toc_position": {},
   "toc_section_display": true,
   "toc_window_display": true
  }
 },
 "nbformat": 4,
 "nbformat_minor": 5
}
